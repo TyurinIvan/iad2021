{
  "nbformat": 4,
  "nbformat_minor": 0,
  "metadata": {
    "kernelspec": {
      "display_name": "Python 3",
      "language": "python",
      "name": "python3"
    },
    "language_info": {
      "codemirror_mode": {
        "name": "ipython",
        "version": 3
      },
      "file_extension": ".py",
      "mimetype": "text/x-python",
      "name": "python",
      "nbconvert_exporter": "python",
      "pygments_lexer": "ipython3",
      "version": "3.8.5"
    },
    "colab": {
      "name": "hw04.ipynb",
      "provenance": []
    }
  },
  "cells": [
    {
      "cell_type": "markdown",
      "metadata": {
        "id": "3DrjXaYm8haW"
      },
      "source": [
        "## Интеллектуальный анализ данных – весна 2021\n",
        "## Домашнее задание 4: kNN. Линейные модели. Работа с признаками"
      ]
    },
    {
      "cell_type": "markdown",
      "metadata": {
        "id": "SNNur1WI8haZ"
      },
      "source": [
        "Правила:\n",
        "\n",
        "* Домашнее задание оценивается в 10 баллов.\n",
        "\n",
        "* Можно использовать без доказательства любые результаты, встречавшиеся на лекциях или семинарах по курсу, если получение этих результатов не является вопросом задания.\n",
        "\n",
        "* Можно использовать любые свободные источники с *обязательным* указанием ссылки на них.\n",
        "\n",
        "* Плагиат не допускается. При обнаружении случаев списывания, 0 за работу выставляется всем участникам нарушения, даже если можно установить, кто у кого списал.\n",
        "\n",
        "* Старайтесь сделать код как можно более оптимальным. В частности, будет штрафоваться использование циклов в тех случаях, когда операцию можно совершить при помощи инструментов библиотек, о которых рассказывалось в курсе.  "
      ]
    },
    {
      "cell_type": "markdown",
      "metadata": {
        "id": "fz-tqtGZ8haa"
      },
      "source": [
        "### Задание 1:  Визуализация решающих поверхностей в kNN."
      ]
    },
    {
      "cell_type": "markdown",
      "metadata": {
        "id": "2VWFK4b28hab"
      },
      "source": [
        "В этом задании мы изобразим решающую поверхность для классификатора kNN, чтобы наглядно увидеть, как классификатор принимает решения для новых объектов. Для простоты будем работать со встроенным в `sklearn` набором данных `wine`, содержащим информацию о характеристиках трёх видов вина. Описание набора можно найти [здесь](https://scikit-learn.org/stable/modules/generated/sklearn.datasets.load_wine.html#sklearn.datasets.load_wine) и [здесь](https://rdrr.io/cran/rattle.data/man/wine.html). "
      ]
    },
    {
      "cell_type": "markdown",
      "metadata": {
        "id": "yVFnKIPI8hac"
      },
      "source": [
        "Загрузим набор данных и сохраним информацию о признаках в переменную `X`, а о зависимой переменной – в переменную `y`."
      ]
    },
    {
      "cell_type": "code",
      "metadata": {
        "id": "q4OL2AiL8hac"
      },
      "source": [
        "import numpy as np\n",
        "import pandas as pd\n",
        "import matplotlib.pyplot as plt"
      ],
      "execution_count": null,
      "outputs": []
    },
    {
      "cell_type": "code",
      "metadata": {
        "id": "UuNiRudA8had",
        "colab": {
          "base_uri": "https://localhost:8080/",
          "height": 277
        },
        "outputId": "eb449b36-50c4-4bde-ec6b-e81d886d594f"
      },
      "source": [
        "from sklearn.datasets import load_wine\n",
        "\n",
        "data = load_wine()\n",
        "X = pd.DataFrame(data['data'], columns = data['feature_names'])\n",
        "y = data['target']\n",
        "X.head(8)"
      ],
      "execution_count": null,
      "outputs": [
        {
          "output_type": "execute_result",
          "data": {
            "text/html": [
              "<div>\n",
              "<style scoped>\n",
              "    .dataframe tbody tr th:only-of-type {\n",
              "        vertical-align: middle;\n",
              "    }\n",
              "\n",
              "    .dataframe tbody tr th {\n",
              "        vertical-align: top;\n",
              "    }\n",
              "\n",
              "    .dataframe thead th {\n",
              "        text-align: right;\n",
              "    }\n",
              "</style>\n",
              "<table border=\"1\" class=\"dataframe\">\n",
              "  <thead>\n",
              "    <tr style=\"text-align: right;\">\n",
              "      <th></th>\n",
              "      <th>alcohol</th>\n",
              "      <th>malic_acid</th>\n",
              "      <th>ash</th>\n",
              "      <th>alcalinity_of_ash</th>\n",
              "      <th>magnesium</th>\n",
              "      <th>total_phenols</th>\n",
              "      <th>flavanoids</th>\n",
              "      <th>nonflavanoid_phenols</th>\n",
              "      <th>proanthocyanins</th>\n",
              "      <th>color_intensity</th>\n",
              "      <th>hue</th>\n",
              "      <th>od280/od315_of_diluted_wines</th>\n",
              "      <th>proline</th>\n",
              "    </tr>\n",
              "  </thead>\n",
              "  <tbody>\n",
              "    <tr>\n",
              "      <th>0</th>\n",
              "      <td>14.23</td>\n",
              "      <td>1.71</td>\n",
              "      <td>2.43</td>\n",
              "      <td>15.6</td>\n",
              "      <td>127.0</td>\n",
              "      <td>2.80</td>\n",
              "      <td>3.06</td>\n",
              "      <td>0.28</td>\n",
              "      <td>2.29</td>\n",
              "      <td>5.64</td>\n",
              "      <td>1.04</td>\n",
              "      <td>3.92</td>\n",
              "      <td>1065.0</td>\n",
              "    </tr>\n",
              "    <tr>\n",
              "      <th>1</th>\n",
              "      <td>13.20</td>\n",
              "      <td>1.78</td>\n",
              "      <td>2.14</td>\n",
              "      <td>11.2</td>\n",
              "      <td>100.0</td>\n",
              "      <td>2.65</td>\n",
              "      <td>2.76</td>\n",
              "      <td>0.26</td>\n",
              "      <td>1.28</td>\n",
              "      <td>4.38</td>\n",
              "      <td>1.05</td>\n",
              "      <td>3.40</td>\n",
              "      <td>1050.0</td>\n",
              "    </tr>\n",
              "    <tr>\n",
              "      <th>2</th>\n",
              "      <td>13.16</td>\n",
              "      <td>2.36</td>\n",
              "      <td>2.67</td>\n",
              "      <td>18.6</td>\n",
              "      <td>101.0</td>\n",
              "      <td>2.80</td>\n",
              "      <td>3.24</td>\n",
              "      <td>0.30</td>\n",
              "      <td>2.81</td>\n",
              "      <td>5.68</td>\n",
              "      <td>1.03</td>\n",
              "      <td>3.17</td>\n",
              "      <td>1185.0</td>\n",
              "    </tr>\n",
              "    <tr>\n",
              "      <th>3</th>\n",
              "      <td>14.37</td>\n",
              "      <td>1.95</td>\n",
              "      <td>2.50</td>\n",
              "      <td>16.8</td>\n",
              "      <td>113.0</td>\n",
              "      <td>3.85</td>\n",
              "      <td>3.49</td>\n",
              "      <td>0.24</td>\n",
              "      <td>2.18</td>\n",
              "      <td>7.80</td>\n",
              "      <td>0.86</td>\n",
              "      <td>3.45</td>\n",
              "      <td>1480.0</td>\n",
              "    </tr>\n",
              "    <tr>\n",
              "      <th>4</th>\n",
              "      <td>13.24</td>\n",
              "      <td>2.59</td>\n",
              "      <td>2.87</td>\n",
              "      <td>21.0</td>\n",
              "      <td>118.0</td>\n",
              "      <td>2.80</td>\n",
              "      <td>2.69</td>\n",
              "      <td>0.39</td>\n",
              "      <td>1.82</td>\n",
              "      <td>4.32</td>\n",
              "      <td>1.04</td>\n",
              "      <td>2.93</td>\n",
              "      <td>735.0</td>\n",
              "    </tr>\n",
              "    <tr>\n",
              "      <th>5</th>\n",
              "      <td>14.20</td>\n",
              "      <td>1.76</td>\n",
              "      <td>2.45</td>\n",
              "      <td>15.2</td>\n",
              "      <td>112.0</td>\n",
              "      <td>3.27</td>\n",
              "      <td>3.39</td>\n",
              "      <td>0.34</td>\n",
              "      <td>1.97</td>\n",
              "      <td>6.75</td>\n",
              "      <td>1.05</td>\n",
              "      <td>2.85</td>\n",
              "      <td>1450.0</td>\n",
              "    </tr>\n",
              "    <tr>\n",
              "      <th>6</th>\n",
              "      <td>14.39</td>\n",
              "      <td>1.87</td>\n",
              "      <td>2.45</td>\n",
              "      <td>14.6</td>\n",
              "      <td>96.0</td>\n",
              "      <td>2.50</td>\n",
              "      <td>2.52</td>\n",
              "      <td>0.30</td>\n",
              "      <td>1.98</td>\n",
              "      <td>5.25</td>\n",
              "      <td>1.02</td>\n",
              "      <td>3.58</td>\n",
              "      <td>1290.0</td>\n",
              "    </tr>\n",
              "    <tr>\n",
              "      <th>7</th>\n",
              "      <td>14.06</td>\n",
              "      <td>2.15</td>\n",
              "      <td>2.61</td>\n",
              "      <td>17.6</td>\n",
              "      <td>121.0</td>\n",
              "      <td>2.60</td>\n",
              "      <td>2.51</td>\n",
              "      <td>0.31</td>\n",
              "      <td>1.25</td>\n",
              "      <td>5.05</td>\n",
              "      <td>1.06</td>\n",
              "      <td>3.58</td>\n",
              "      <td>1295.0</td>\n",
              "    </tr>\n",
              "  </tbody>\n",
              "</table>\n",
              "</div>"
            ],
            "text/plain": [
              "   alcohol  malic_acid   ash  ...   hue  od280/od315_of_diluted_wines  proline\n",
              "0    14.23        1.71  2.43  ...  1.04                          3.92   1065.0\n",
              "1    13.20        1.78  2.14  ...  1.05                          3.40   1050.0\n",
              "2    13.16        2.36  2.67  ...  1.03                          3.17   1185.0\n",
              "3    14.37        1.95  2.50  ...  0.86                          3.45   1480.0\n",
              "4    13.24        2.59  2.87  ...  1.04                          2.93    735.0\n",
              "5    14.20        1.76  2.45  ...  1.05                          2.85   1450.0\n",
              "6    14.39        1.87  2.45  ...  1.02                          3.58   1290.0\n",
              "7    14.06        2.15  2.61  ...  1.06                          3.58   1295.0\n",
              "\n",
              "[8 rows x 13 columns]"
            ]
          },
          "metadata": {
            "tags": []
          },
          "execution_count": 2
        }
      ]
    },
    {
      "cell_type": "markdown",
      "metadata": {
        "id": "UrOi5z208hae"
      },
      "source": [
        "**Задача 1.1 (0.5 балла)** Есть ли в наборе данных пропущенные значения? Если да, то удалите их. Есть ли в наборе данных категориальные переменные? Если да, то закодируйте их при помощи OneHot-кодирования."
      ]
    },
    {
      "cell_type": "code",
      "metadata": {
        "id": "9zDxDYB98haf",
        "colab": {
          "base_uri": "https://localhost:8080/"
        },
        "outputId": "4bad3dbd-7bcf-4086-bce7-0250a0b0e45f"
      },
      "source": [
        "X.isna().any().any() # Нет пропущенных."
      ],
      "execution_count": null,
      "outputs": [
        {
          "output_type": "execute_result",
          "data": {
            "text/plain": [
              "False"
            ]
          },
          "metadata": {
            "tags": []
          },
          "execution_count": 3
        }
      ]
    },
    {
      "cell_type": "code",
      "metadata": {
        "id": "t6S0I2QdApeB",
        "colab": {
          "base_uri": "https://localhost:8080/"
        },
        "outputId": "7e794ad1-6890-49bb-cc46-0040a2f99b4e"
      },
      "source": [
        "X.dtypes # Нет категориальных."
      ],
      "execution_count": null,
      "outputs": [
        {
          "output_type": "execute_result",
          "data": {
            "text/plain": [
              "alcohol                         float64\n",
              "malic_acid                      float64\n",
              "ash                             float64\n",
              "alcalinity_of_ash               float64\n",
              "magnesium                       float64\n",
              "total_phenols                   float64\n",
              "flavanoids                      float64\n",
              "nonflavanoid_phenols            float64\n",
              "proanthocyanins                 float64\n",
              "color_intensity                 float64\n",
              "hue                             float64\n",
              "od280/od315_of_diluted_wines    float64\n",
              "proline                         float64\n",
              "dtype: object"
            ]
          },
          "metadata": {
            "tags": []
          },
          "execution_count": 4
        }
      ]
    },
    {
      "cell_type": "markdown",
      "metadata": {
        "id": "5-QWIUaI8haf"
      },
      "source": [
        "**Задача 1.2 (0.5 балла)** Используя функцию `train_test_split()`, разделите выборку на тренировочную и тестовую, и долю тестовой выборки задайте равной 0.3. Так как разбиение осуществляется случайным образом, не забудьте зафиксировать `np.random.seed()` для воспроизводимости результатов."
      ]
    },
    {
      "cell_type": "code",
      "metadata": {
        "id": "OyDUGDKWC4nx"
      },
      "source": [
        "from sklearn.model_selection import train_test_split"
      ],
      "execution_count": null,
      "outputs": []
    },
    {
      "cell_type": "code",
      "metadata": {
        "id": "GzPxCumWbBVJ",
        "colab": {
          "base_uri": "https://localhost:8080/",
          "height": 191
        },
        "outputId": "84f68fc8-eab3-4186-d912-1499fb44e9b3"
      },
      "source": [
        "# Масштабирование для задания 1.3\r\n",
        "from sklearn import preprocessing\r\n",
        "\r\n",
        "normalizer = preprocessing.MinMaxScaler()\r\n",
        "X_real_norm_np = normalizer.fit_transform(X)\r\n",
        "X = pd.DataFrame(data=X_real_norm_np, columns=list(X))\r\n",
        "X.head()"
      ],
      "execution_count": null,
      "outputs": [
        {
          "output_type": "execute_result",
          "data": {
            "text/html": [
              "<div>\n",
              "<style scoped>\n",
              "    .dataframe tbody tr th:only-of-type {\n",
              "        vertical-align: middle;\n",
              "    }\n",
              "\n",
              "    .dataframe tbody tr th {\n",
              "        vertical-align: top;\n",
              "    }\n",
              "\n",
              "    .dataframe thead th {\n",
              "        text-align: right;\n",
              "    }\n",
              "</style>\n",
              "<table border=\"1\" class=\"dataframe\">\n",
              "  <thead>\n",
              "    <tr style=\"text-align: right;\">\n",
              "      <th></th>\n",
              "      <th>alcohol</th>\n",
              "      <th>malic_acid</th>\n",
              "      <th>ash</th>\n",
              "      <th>alcalinity_of_ash</th>\n",
              "      <th>magnesium</th>\n",
              "      <th>total_phenols</th>\n",
              "      <th>flavanoids</th>\n",
              "      <th>nonflavanoid_phenols</th>\n",
              "      <th>proanthocyanins</th>\n",
              "      <th>color_intensity</th>\n",
              "      <th>hue</th>\n",
              "      <th>od280/od315_of_diluted_wines</th>\n",
              "      <th>proline</th>\n",
              "    </tr>\n",
              "  </thead>\n",
              "  <tbody>\n",
              "    <tr>\n",
              "      <th>0</th>\n",
              "      <td>0.842105</td>\n",
              "      <td>0.191700</td>\n",
              "      <td>0.572193</td>\n",
              "      <td>0.257732</td>\n",
              "      <td>0.619565</td>\n",
              "      <td>0.627586</td>\n",
              "      <td>0.573840</td>\n",
              "      <td>0.283019</td>\n",
              "      <td>0.593060</td>\n",
              "      <td>0.372014</td>\n",
              "      <td>0.455285</td>\n",
              "      <td>0.970696</td>\n",
              "      <td>0.561341</td>\n",
              "    </tr>\n",
              "    <tr>\n",
              "      <th>1</th>\n",
              "      <td>0.571053</td>\n",
              "      <td>0.205534</td>\n",
              "      <td>0.417112</td>\n",
              "      <td>0.030928</td>\n",
              "      <td>0.326087</td>\n",
              "      <td>0.575862</td>\n",
              "      <td>0.510549</td>\n",
              "      <td>0.245283</td>\n",
              "      <td>0.274448</td>\n",
              "      <td>0.264505</td>\n",
              "      <td>0.463415</td>\n",
              "      <td>0.780220</td>\n",
              "      <td>0.550642</td>\n",
              "    </tr>\n",
              "    <tr>\n",
              "      <th>2</th>\n",
              "      <td>0.560526</td>\n",
              "      <td>0.320158</td>\n",
              "      <td>0.700535</td>\n",
              "      <td>0.412371</td>\n",
              "      <td>0.336957</td>\n",
              "      <td>0.627586</td>\n",
              "      <td>0.611814</td>\n",
              "      <td>0.320755</td>\n",
              "      <td>0.757098</td>\n",
              "      <td>0.375427</td>\n",
              "      <td>0.447154</td>\n",
              "      <td>0.695971</td>\n",
              "      <td>0.646933</td>\n",
              "    </tr>\n",
              "    <tr>\n",
              "      <th>3</th>\n",
              "      <td>0.878947</td>\n",
              "      <td>0.239130</td>\n",
              "      <td>0.609626</td>\n",
              "      <td>0.319588</td>\n",
              "      <td>0.467391</td>\n",
              "      <td>0.989655</td>\n",
              "      <td>0.664557</td>\n",
              "      <td>0.207547</td>\n",
              "      <td>0.558360</td>\n",
              "      <td>0.556314</td>\n",
              "      <td>0.308943</td>\n",
              "      <td>0.798535</td>\n",
              "      <td>0.857347</td>\n",
              "    </tr>\n",
              "    <tr>\n",
              "      <th>4</th>\n",
              "      <td>0.581579</td>\n",
              "      <td>0.365613</td>\n",
              "      <td>0.807487</td>\n",
              "      <td>0.536082</td>\n",
              "      <td>0.521739</td>\n",
              "      <td>0.627586</td>\n",
              "      <td>0.495781</td>\n",
              "      <td>0.490566</td>\n",
              "      <td>0.444795</td>\n",
              "      <td>0.259386</td>\n",
              "      <td>0.455285</td>\n",
              "      <td>0.608059</td>\n",
              "      <td>0.325963</td>\n",
              "    </tr>\n",
              "  </tbody>\n",
              "</table>\n",
              "</div>"
            ],
            "text/plain": [
              "    alcohol  malic_acid  ...  od280/od315_of_diluted_wines   proline\n",
              "0  0.842105    0.191700  ...                      0.970696  0.561341\n",
              "1  0.571053    0.205534  ...                      0.780220  0.550642\n",
              "2  0.560526    0.320158  ...                      0.695971  0.646933\n",
              "3  0.878947    0.239130  ...                      0.798535  0.857347\n",
              "4  0.581579    0.365613  ...                      0.608059  0.325963\n",
              "\n",
              "[5 rows x 13 columns]"
            ]
          },
          "metadata": {
            "tags": []
          },
          "execution_count": 6
        }
      ]
    },
    {
      "cell_type": "code",
      "metadata": {
        "id": "DJwRlaeR8hag"
      },
      "source": [
        "np.random.seed(0)\r\n",
        "x_train, x_test, y_train, y_test = train_test_split(\r\n",
        "    X, y, test_size=0.3)"
      ],
      "execution_count": null,
      "outputs": []
    },
    {
      "cell_type": "markdown",
      "metadata": {
        "id": "y7tboqJh8hag"
      },
      "source": [
        "**Задача 1.3 (1 балл)** На тренировочной выборке обучите шесть классификаторов kNN, отличающихся только числом соседей. Для первого классификатора число соседей поставьте равным 1, для второго - 3, для третьего – 5, для четвертого – 10, для пятого – 15 и для шестого – 25 (обратите внимание на параметр `n_neighbours` класса `KNeighborsClassifier`). Для обучения используйте только два признака: `alcohol` и `magnesium` – и евклидово расстояние. Не забудьте масштабировать признаки, например, при помощи модуля `StandardScaler`.\n",
        "\n",
        "Выведите долю правильных ответов на тренировочной и тестовой выборках для каждого классификатора."
      ]
    },
    {
      "cell_type": "code",
      "metadata": {
        "id": "YAeFrzuj59bw"
      },
      "source": [
        "from sklearn.preprocessing import StandardScaler\r\n",
        "scaler = StandardScaler()"
      ],
      "execution_count": null,
      "outputs": []
    },
    {
      "cell_type": "code",
      "metadata": {
        "id": "BD6MIybo6Jp1",
        "colab": {
          "base_uri": "https://localhost:8080/"
        },
        "outputId": "1939c435-d7f3-49e4-a1e7-3a1e58fca170"
      },
      "source": [
        "scaler.fit(X)"
      ],
      "execution_count": null,
      "outputs": [
        {
          "output_type": "execute_result",
          "data": {
            "text/plain": [
              "StandardScaler(copy=True, with_mean=True, with_std=True)"
            ]
          },
          "metadata": {
            "tags": []
          },
          "execution_count": 9
        }
      ]
    },
    {
      "cell_type": "code",
      "metadata": {
        "id": "h44C5GuH6OKD"
      },
      "source": [
        "X = pd.DataFrame(scaler.transform(X), columns=list(X))"
      ],
      "execution_count": null,
      "outputs": []
    },
    {
      "cell_type": "code",
      "metadata": {
        "id": "_pnUF4hsWFdU"
      },
      "source": [
        "# Выбираем необходимые данные\r\n",
        "x_train, x_test = x_train[['alcohol', 'magnesium']], x_test[['alcohol', 'magnesium']]"
      ],
      "execution_count": null,
      "outputs": []
    },
    {
      "cell_type": "code",
      "metadata": {
        "id": "wPFqqQNbTgG1"
      },
      "source": [
        "# классификатор\r\n",
        "from sklearn.neighbors import KNeighborsClassifier"
      ],
      "execution_count": null,
      "outputs": []
    },
    {
      "cell_type": "code",
      "metadata": {
        "id": "OOXh5NlQenWk"
      },
      "source": [
        "steps = [1, 3, 5, 10, 15, 25]\r\n",
        "KNCls = [KNeighborsClassifier(n_neighbors=k) for k in steps]"
      ],
      "execution_count": null,
      "outputs": []
    },
    {
      "cell_type": "code",
      "metadata": {
        "id": "_4ff79sRHFTx",
        "colab": {
          "base_uri": "https://localhost:8080/"
        },
        "outputId": "20007d46-9dea-42a2-a986-499e535153f9"
      },
      "source": [
        "# Подбор k на валидационной выборке:\r\n",
        "for _k, _KNCls in zip(steps, KNCls):\r\n",
        "  y_predicted = _KNCls.fit(x_train, y_train).predict(x_test)\r\n",
        "  y_predicted_train = _KNCls.fit(x_train, y_train).predict(x_train)\r\n",
        "  print(f\"Accuracy_{_k}_Train = {np.mean(y_predicted_train==y_train):.3f}; Accuracy_{_k}_Test = {np.mean(y_predicted==y_test):.3f}\")"
      ],
      "execution_count": null,
      "outputs": [
        {
          "output_type": "stream",
          "text": [
            "Accuracy_1_Train = 1.000; Accuracy_1_Test = 0.648\n",
            "Accuracy_3_Train = 0.798; Accuracy_3_Test = 0.815\n",
            "Accuracy_5_Train = 0.790; Accuracy_5_Test = 0.722\n",
            "Accuracy_10_Train = 0.782; Accuracy_10_Test = 0.778\n",
            "Accuracy_15_Train = 0.734; Accuracy_15_Test = 0.778\n",
            "Accuracy_25_Train = 0.669; Accuracy_25_Test = 0.722\n"
          ],
          "name": "stdout"
        }
      ]
    },
    {
      "cell_type": "markdown",
      "metadata": {
        "id": "KXj_0g_U8hai"
      },
      "source": [
        "**Задача 1.4 (0 баллов)** Установите библиотеку `mlxtend` командой ниже. Библиотеку также можно установить из терминала при помощи `pip` или `conda`, как указано [здесь](http://rasbt.github.io/mlxtend/installation/). "
      ]
    },
    {
      "cell_type": "code",
      "metadata": {
        "id": "osaqBTcs8haj"
      },
      "source": [
        "# !pip install mlxtend"
      ],
      "execution_count": null,
      "outputs": []
    },
    {
      "cell_type": "markdown",
      "metadata": {
        "id": "lNvtk6cD8haj"
      },
      "source": [
        "Если всё прошло успешно, то в выводе команды выше вы увидите сообщение вроде \"successfully installed\", а следующая ячейка выполнится без ошибок."
      ]
    },
    {
      "cell_type": "code",
      "metadata": {
        "id": "eJNR00_D8hak"
      },
      "source": [
        "# import mlxtend\r\n",
        "from mlxtend.plotting import plot_decision_regions"
      ],
      "execution_count": null,
      "outputs": []
    },
    {
      "cell_type": "markdown",
      "metadata": {
        "id": "NP1AjRo18hak"
      },
      "source": [
        "**Задача 1.5 (1 балл)** Библиотека `mlxtend` позволяет достаточно просто визуализировать решающие поверхности обученных классификаторов. Изучите [документацию](http://rasbt.github.io/mlxtend/user_guide/plotting/plot_decision_regions/) библиотеки и найдите, как можно построить несколько графиков решающих поверхностей на сетке (decision regions grid). Постройте такую сетку графиков для обученных выше классификаторов.\n",
        "\n",
        "**Подсказки:**\n",
        "1. Вы можете использовать готовый код, приведённый в документации, и адаптировать его для нашего случая.\n",
        "2. Вам могут понадобиться дополнительные библиотеки, которые используются в примере из документации.\n",
        "3. Обратите внимание на то, как нужно изменить параметры `gridspec.GridSpec()` и `itertools.product()` для нашего числа классификаторов. \n",
        "4. В функции `plot_decision_region()` используйте `y_train` и нужные столбцы из `X_train`. Возможно, их придётся перевести в формат массива `numpy`.\n",
        "5. Если в задаче 1.3 вы сохраните обученные классификаторы в список, то не будет необходимости обучать их заново. \n",
        "6. Построение графика может занять некоторое время – придётся немного подождать!"
      ]
    },
    {
      "cell_type": "code",
      "metadata": {
        "id": "3hLSu3bCdpAQ"
      },
      "source": [
        "x_train, y_train = np.array(x_train), np.array(y_train)"
      ],
      "execution_count": null,
      "outputs": []
    },
    {
      "cell_type": "code",
      "metadata": {
        "id": "mwbUspgHXVcj",
        "colab": {
          "base_uri": "https://localhost:8080/",
          "height": 966
        },
        "outputId": "af95f2ae-41b3-40e2-e933-56a674ebfcb9"
      },
      "source": [
        "import matplotlib.gridspec as gridspec\r\n",
        "from itertools import product\r\n",
        "\r\n",
        "gs = gridspec.GridSpec(2, 3)\r\n",
        "\r\n",
        "fig = plt.figure(figsize=(25,13))\r\n",
        "\r\n",
        "labels = ['y_predicted_1', 'y_predicted_3', 'y_predicted_5', 'y_predicted_10', 'y_predicted_15', 'y_predicted_25']\r\n",
        "for clf, lab, grd in zip(KNCls,\r\n",
        "                         labels,\r\n",
        "                         product([0, 1, 2], repeat=2)):\r\n",
        "\r\n",
        "    clf.fit(x_train, y_train)\r\n",
        "    ax = plt.subplot(gs[grd[0], grd[1]])\r\n",
        "    fig = plot_decision_regions(X=x_train, y=y_train, clf=clf, legend=2)\r\n",
        "    plt.title(lab)\r\n",
        "\r\n",
        "plt.show()"
      ],
      "execution_count": null,
      "outputs": [
        {
          "output_type": "stream",
          "text": [
            "/usr/local/lib/python3.7/dist-packages/mlxtend/plotting/decision_regions.py:244: MatplotlibDeprecationWarning: Passing unsupported keyword arguments to axis() will raise a TypeError in 3.3.\n",
            "  ax.axis(xmin=xx.min(), xmax=xx.max(), y_min=yy.min(), y_max=yy.max())\n",
            "/usr/local/lib/python3.7/dist-packages/mlxtend/plotting/decision_regions.py:244: MatplotlibDeprecationWarning: Passing unsupported keyword arguments to axis() will raise a TypeError in 3.3.\n",
            "  ax.axis(xmin=xx.min(), xmax=xx.max(), y_min=yy.min(), y_max=yy.max())\n",
            "/usr/local/lib/python3.7/dist-packages/mlxtend/plotting/decision_regions.py:244: MatplotlibDeprecationWarning: Passing unsupported keyword arguments to axis() will raise a TypeError in 3.3.\n",
            "  ax.axis(xmin=xx.min(), xmax=xx.max(), y_min=yy.min(), y_max=yy.max())\n",
            "/usr/local/lib/python3.7/dist-packages/mlxtend/plotting/decision_regions.py:244: MatplotlibDeprecationWarning: Passing unsupported keyword arguments to axis() will raise a TypeError in 3.3.\n",
            "  ax.axis(xmin=xx.min(), xmax=xx.max(), y_min=yy.min(), y_max=yy.max())\n",
            "/usr/local/lib/python3.7/dist-packages/mlxtend/plotting/decision_regions.py:244: MatplotlibDeprecationWarning: Passing unsupported keyword arguments to axis() will raise a TypeError in 3.3.\n",
            "  ax.axis(xmin=xx.min(), xmax=xx.max(), y_min=yy.min(), y_max=yy.max())\n",
            "/usr/local/lib/python3.7/dist-packages/mlxtend/plotting/decision_regions.py:244: MatplotlibDeprecationWarning: Passing unsupported keyword arguments to axis() will raise a TypeError in 3.3.\n",
            "  ax.axis(xmin=xx.min(), xmax=xx.max(), y_min=yy.min(), y_max=yy.max())\n"
          ],
          "name": "stderr"
        },
        {
          "output_type": "display_data",
          "data": {
            "image/png": "[encoded data removed]",
            "text/plain": [
              "<Figure size 1800x936 with 6 Axes>"
            ]
          },
          "metadata": {
            "tags": [],
            "needs_background": "light"
          }
        }
      ]
    },
    {
      "cell_type": "code",
      "metadata": {
        "id": "yy-KQow88hal",
        "outputId": "ce9b1245-5acd-4b98-e901-08fcc3cc3eb1"
      },
      "source": [
        ""
      ],
      "execution_count": null,
      "outputs": [
        {
          "output_type": "display_data",
          "data": {
            "image/png": "[encoded data removed]",
            "text/plain": [
              "<Figure size 1872x936 with 6 Axes>"
            ]
          },
          "metadata": {
            "tags": [],
            "needs_background": "light"
          }
        }
      ]
    },
    {
      "cell_type": "markdown",
      "metadata": {
        "id": "3w64TKmx8hal"
      },
      "source": [
        "**Задача 1.6 (0.5 балла)** Прокомментируйте результаты, полученные в задачах 1.3 и 1.5. Какое число соседей оптимально использовать для обучения классификатора? Поясните ваш выбор при помощи описания геометрии данных и получаемой решающей поверхности."
      ]
    },
    {
      "cell_type": "code",
      "metadata": {
        "id": "wg3LTPgT8ham"
      },
      "source": [
        "# Как это можно поянить?!\r\n",
        "# Наилучший результат для тестовой выборки получается при k = 3\r\n",
        "# Геометрия в данном случае максимально верно (из рассмотренных вариантов) описывает наше распределение"
      ],
      "execution_count": null,
      "outputs": []
    },
    {
      "cell_type": "markdown",
      "metadata": {
        "id": "9LiyVzAr8ham"
      },
      "source": [
        "### Задание 2: Обученная машина."
      ]
    },
    {
      "cell_type": "markdown",
      "metadata": {
        "id": "_7SiEC6r8ham"
      },
      "source": [
        "В этом задании мы рассмотрим упрощённую идею того, как метод ближайших соседей можно применить при моделировании движения робота. \n",
        "\n",
        "Рассмотрим робота на дискретной двумерной плоскости, который за каждый момент дискретного времени может передвинуться на одну позицию вправо, влево, вверх или вниз. На плоскости разбросаны метки одного из четырёх классов, анализируя которые робот может (но не обязан) корректировать своё перемещение. Пусть метки класса 0 соответствуют сигналу переместиться вправо, метки класса 1 – влево, класса 2 – вверх, класса 3 – вниз. \n",
        "\n",
        "Передвижение робота осуществляется по следующему правилу: с вероятностью 0.2 робот передвинется вправо, и с вероятностью 0.8 – оценит, метки какого класса преобладают среди `k` его ближайших соседей, и передвинется в направлении этого доминирующего класса. \n",
        "\n",
        "Для лучшего понимания происходящего изобразим возможное положение робота и меток:"
      ]
    },
    {
      "cell_type": "code",
      "metadata": {
        "id": "RE-Ab4vX8han",
        "outputId": "f1e6b9d1-d1e4-4125-fe93-e0974f790ac6"
      },
      "source": [
        "np.random.seed(12345)\n",
        "x = np.arange(20)\n",
        "landmarks = x + np.round(np.random.normal(2, 8, 20)) # сгенерируем случайные метки\n",
        "random_classes = np.random.randint(0, 4, 20)\n",
        "\n",
        "fig, ax = plt.subplots(figsize = (10, 7))\n",
        "scatter = ax.scatter(x, landmarks, c = random_classes)\n",
        "ax.scatter(4, 7, c = 'r', marker = 'o', label = 'robot position')\n",
        "legend1 = ax.legend(*scatter.legend_elements(),\n",
        "                    loc = \"lower left\", title = \"Classes\")\n",
        "ax.add_artist(legend1)\n",
        "\n",
        "plt.plot()\n",
        "_ = plt.legend()\n",
        "_ = plt.grid()"
      ],
      "execution_count": null,
      "outputs": [
        {
          "output_type": "display_data",
          "data": {
            "image/png": "[encoded data removed]",
            "text/plain": [
              "<Figure size 720x504 with 1 Axes>"
            ]
          },
          "metadata": {
            "tags": [],
            "needs_background": "light"
          }
        }
      ]
    },
    {
      "cell_type": "markdown",
      "metadata": {
        "id": "oVpV0Ko88hao"
      },
      "source": [
        "На следующем шаге робот передвинется на 1 либо вправо, либо в направлении, которое указывают ближайшие соседи."
      ]
    },
    {
      "cell_type": "markdown",
      "metadata": {
        "id": "UwfRR5vA8hao"
      },
      "source": [
        "**Задача 2.1 (1.5 балла)** Реализуйте класс, который задаёт описанное поведение робота, используя шаблон ниже:\n",
        "1. Определите атрибуты `trajectory` (переменная для хранения истории перемещения робота в виде последовательности точек с двумя координатами) и `knn` (обученный kNN классификатор, который по позиции метки предсказывает её класс).\n",
        "2. Определите метод `move()`: рассчитайте новое положение робота по правилам выше и добавьте её в историю перемещений. Подсказка: исходы можно интерпретировать как результаты подбрасывания монетки с вероятностью орла, равной 0.2. Для моделирования такого подбрасывания можно использовать, например, `np.random.binomial()` с правильными параметрами. "
      ]
    },
    {
      "cell_type": "code",
      "metadata": {
        "id": "u7DO5bku8hap"
      },
      "source": [
        "from sklearn.neighbors import KNeighborsClassifier"
      ],
      "execution_count": null,
      "outputs": []
    },
    {
      "cell_type": "code",
      "metadata": {
        "id": "T67rdjhK8hap"
      },
      "source": [
        "class MobileRobot():\n",
        "    \n",
        "    def __init__(self, k, initial_position, landmarks, classes):\n",
        "        '''\n",
        "        Attributes:\n",
        "        ------\n",
        "        k: int\n",
        "            Number of neighbours\n",
        "            \n",
        "        initial_position: ndarray\n",
        "            Initial position of the robot as a point, e.g. (-1, 1)\n",
        "            \n",
        "        landmarks: ndarray\n",
        "            numpy array of shape (n_landmarks, 2) with the euclidean positions of points\n",
        "        \n",
        "        classes: ndarray\n",
        "            numpy array of shape (n_landmarks, ) with class of landmark for each point in landmarks\n",
        "        \n",
        "        '''\n",
        "        # Store the history of movements\n",
        "        self.trajectory = # <ВАШ КОД ЗДЕСЬ>\n",
        "        \n",
        "        # kNN Classifier for determining the classes of landmarks\n",
        "        self.knn = # <ВАШ КОД ЗДЕСЬ>\n",
        "        \n",
        "        # Mapping between classes of points and movements\n",
        "        self.mapping = {0: np.array([1, 0]), \n",
        "                        1: np.array([-1, 0]),\n",
        "                        2: np.array([0, 1]),\n",
        "                        3: np.array([0, -1])}\n",
        "        \n",
        "    def move(self):\n",
        "        '''\n",
        "        Calculate new position of the robot and add it to the history\n",
        "        '''\n",
        "        \n",
        "        # <ВАШ КОД ЗДЕСЬ>"
      ],
      "execution_count": null,
      "outputs": []
    },
    {
      "cell_type": "markdown",
      "metadata": {
        "id": "H9LMxHcB8haq"
      },
      "source": [
        "**Задача 2.2 (0.5 балла)** Дополните функцию `conduct_experiment`: определите переменную `traj` так, чтобы она содержала историю перемещения робота в виде двумерного массива numpy, в котором столбцы соответствуют координатам x и y соответствующей позиции."
      ]
    },
    {
      "cell_type": "code",
      "metadata": {
        "id": "e2Gft7kL8har"
      },
      "source": [
        "def conduct_experiment(x,\n",
        "                       mean = 0,\n",
        "                       std = 2, \n",
        "                       n_movements = 10, \n",
        "                       k = 3, \n",
        "                       initial_position = np.array([10, 20])):\n",
        "    \n",
        "    np.random.seed(12345)\n",
        "    # Generate random landmarks\n",
        "    landmarks = np.vstack((x, x + np.round(np.random.normal(mean, std, len(x))))).T\n",
        "    \n",
        "    # Generate random classes of landmarks\n",
        "    classes = np.random.randint(0, 4, size = len(x))\n",
        "    \n",
        "    # Conduct experiment\n",
        "    robot = MobileRobot(k, initial_position, landmarks, classes)\n",
        "    \n",
        "    for n in range(n_movements):\n",
        "        robot.move()\n",
        "    \n",
        "    fig, ax = plt.subplots(figsize = (10, 8))\n",
        "    scatter = ax.scatter(landmarks[:, 0], landmarks[:, 1], c = classes)\n",
        "    legend1 = ax.legend(*scatter.legend_elements(),\n",
        "                        loc=\"lower left\", title=\"classes\")\n",
        "    ax.add_artist(legend1)\n",
        "    \n",
        "    traj = # <ВАШ КОД ЗДЕСЬ>\n",
        "    ax.plot(traj[:, 0], traj[:, 1], \n",
        "               c = 'r', marker = 'o', label = 'robot position')\n",
        "\n",
        "    plt.plot()\n",
        "    _ = plt.legend()\n",
        "    _ = plt.grid()"
      ],
      "execution_count": null,
      "outputs": []
    },
    {
      "cell_type": "code",
      "metadata": {
        "id": "caFv4TYu8hat",
        "outputId": "31eb9b31-0d35-4a9f-f241-6497d6c8b543"
      },
      "source": [
        "x = np.arange(30)\n",
        "conduct_experiment(x, mean = 3, std = 10, k = 5, n_movements = 50)"
      ],
      "execution_count": null,
      "outputs": [
        {
          "output_type": "display_data",
          "data": {
            "image/png": "[encoded data removed]",
            "text/plain": [
              "<Figure size 720x576 with 1 Axes>"
            ]
          },
          "metadata": {
            "tags": [],
            "needs_background": "light"
          }
        }
      ]
    },
    {
      "cell_type": "markdown",
      "metadata": {
        "id": "2hHzMtvf8hau"
      },
      "source": [
        "**Задача 2.3 (1 балл)** Как число соседей влияет на траекторию движения робота в нашем эксперименте? Постройте четыре графика с различным числом соседей на ваш выбор. А что было бы в случае, если классы назначаются меткам не случайно, а осмысленно? "
      ]
    },
    {
      "cell_type": "code",
      "metadata": {
        "id": "Qf7qLTGg8hav"
      },
      "source": [
        ""
      ],
      "execution_count": null,
      "outputs": []
    },
    {
      "cell_type": "markdown",
      "metadata": {
        "id": "I8mwSh2y8haw"
      },
      "source": [
        "### Задание 3: Линейная регрессия."
      ]
    },
    {
      "cell_type": "markdown",
      "metadata": {
        "id": "Aczf-10m8hax"
      },
      "source": [
        "В этом задании мы рассмотрим различные аспекты построения линейной модели. Мы будем работать с одним из классических наборов данных в статистике, содержащим информацию о бриллиантах. Описание можно посмотреть [здесь](https://www.kaggle.com/shivam2503/diamonds)."
      ]
    },
    {
      "cell_type": "code",
      "metadata": {
        "id": "fMty_PJwMysq"
      },
      "source": [
        "import pandas as pd\r\n",
        "import numpy as np\r\n",
        "import matplotlib.pyplot as plt"
      ],
      "execution_count": 158,
      "outputs": []
    },
    {
      "cell_type": "code",
      "metadata": {
        "id": "4ioxulSp8hay",
        "colab": {
          "base_uri": "https://localhost:8080/",
          "height": 191
        },
        "outputId": "3d465ae4-e36c-488d-af3b-24f53d0a2974"
      },
      "source": [
        "df = pd.read_csv('https://raw.githubusercontent.com/TyurinIvan/iad2021/master/hw4/data/diamonds.csv', index_col=0, header=0, sep=\",\")\n",
        "df.head(5)"
      ],
      "execution_count": 101,
      "outputs": [
        {
          "output_type": "execute_result",
          "data": {
            "text/html": [
              "<div>\n",
              "<style scoped>\n",
              "    .dataframe tbody tr th:only-of-type {\n",
              "        vertical-align: middle;\n",
              "    }\n",
              "\n",
              "    .dataframe tbody tr th {\n",
              "        vertical-align: top;\n",
              "    }\n",
              "\n",
              "    .dataframe thead th {\n",
              "        text-align: right;\n",
              "    }\n",
              "</style>\n",
              "<table border=\"1\" class=\"dataframe\">\n",
              "  <thead>\n",
              "    <tr style=\"text-align: right;\">\n",
              "      <th></th>\n",
              "      <th>carat</th>\n",
              "      <th>cut</th>\n",
              "      <th>color</th>\n",
              "      <th>clarity</th>\n",
              "      <th>depth</th>\n",
              "      <th>table</th>\n",
              "      <th>price</th>\n",
              "      <th>x</th>\n",
              "      <th>y</th>\n",
              "      <th>z</th>\n",
              "    </tr>\n",
              "  </thead>\n",
              "  <tbody>\n",
              "    <tr>\n",
              "      <th>1</th>\n",
              "      <td>0.23</td>\n",
              "      <td>Ideal</td>\n",
              "      <td>E</td>\n",
              "      <td>SI2</td>\n",
              "      <td>61.5</td>\n",
              "      <td>55.0</td>\n",
              "      <td>326</td>\n",
              "      <td>3.95</td>\n",
              "      <td>3.98</td>\n",
              "      <td>2.43</td>\n",
              "    </tr>\n",
              "    <tr>\n",
              "      <th>2</th>\n",
              "      <td>0.21</td>\n",
              "      <td>Premium</td>\n",
              "      <td>E</td>\n",
              "      <td>SI1</td>\n",
              "      <td>59.8</td>\n",
              "      <td>61.0</td>\n",
              "      <td>326</td>\n",
              "      <td>3.89</td>\n",
              "      <td>3.84</td>\n",
              "      <td>2.31</td>\n",
              "    </tr>\n",
              "    <tr>\n",
              "      <th>3</th>\n",
              "      <td>0.23</td>\n",
              "      <td>Good</td>\n",
              "      <td>E</td>\n",
              "      <td>VS1</td>\n",
              "      <td>56.9</td>\n",
              "      <td>65.0</td>\n",
              "      <td>327</td>\n",
              "      <td>4.05</td>\n",
              "      <td>4.07</td>\n",
              "      <td>2.31</td>\n",
              "    </tr>\n",
              "    <tr>\n",
              "      <th>4</th>\n",
              "      <td>0.29</td>\n",
              "      <td>Premium</td>\n",
              "      <td>I</td>\n",
              "      <td>VS2</td>\n",
              "      <td>62.4</td>\n",
              "      <td>58.0</td>\n",
              "      <td>334</td>\n",
              "      <td>4.20</td>\n",
              "      <td>4.23</td>\n",
              "      <td>2.63</td>\n",
              "    </tr>\n",
              "    <tr>\n",
              "      <th>5</th>\n",
              "      <td>0.31</td>\n",
              "      <td>Good</td>\n",
              "      <td>J</td>\n",
              "      <td>SI2</td>\n",
              "      <td>63.3</td>\n",
              "      <td>58.0</td>\n",
              "      <td>335</td>\n",
              "      <td>4.34</td>\n",
              "      <td>4.35</td>\n",
              "      <td>2.75</td>\n",
              "    </tr>\n",
              "  </tbody>\n",
              "</table>\n",
              "</div>"
            ],
            "text/plain": [
              "   carat      cut color clarity  depth  table  price     x     y     z\n",
              "1   0.23    Ideal     E     SI2   61.5   55.0    326  3.95  3.98  2.43\n",
              "2   0.21  Premium     E     SI1   59.8   61.0    326  3.89  3.84  2.31\n",
              "3   0.23     Good     E     VS1   56.9   65.0    327  4.05  4.07  2.31\n",
              "4   0.29  Premium     I     VS2   62.4   58.0    334  4.20  4.23  2.63\n",
              "5   0.31     Good     J     SI2   63.3   58.0    335  4.34  4.35  2.75"
            ]
          },
          "metadata": {
            "tags": []
          },
          "execution_count": 101
        }
      ]
    },
    {
      "cell_type": "markdown",
      "metadata": {
        "id": "kZlDWmF88hay"
      },
      "source": [
        "Мы будем решать задачу предсказания цены бриллианта `price` в зависимости от его характеристик."
      ]
    },
    {
      "cell_type": "markdown",
      "metadata": {
        "id": "prLI1xrV8haz"
      },
      "source": [
        "**Задача 3.1 (0.1 балла)** Есть ли в наборе данных пропущенные значения? Если да, удалите их. "
      ]
    },
    {
      "cell_type": "code",
      "metadata": {
        "id": "teOgfFfJ8ha0",
        "colab": {
          "base_uri": "https://localhost:8080/"
        },
        "outputId": "80f2bd86-1cd6-4797-d87d-be9e5aed73de"
      },
      "source": [
        "df.isnull().any().any() # Пропущенные значения отсутствуют"
      ],
      "execution_count": 75,
      "outputs": [
        {
          "output_type": "execute_result",
          "data": {
            "text/plain": [
              "False"
            ]
          },
          "metadata": {
            "tags": []
          },
          "execution_count": 75
        }
      ]
    },
    {
      "cell_type": "markdown",
      "metadata": {
        "id": "t9S5hKsj8ha0"
      },
      "source": [
        "**Задача 3.2 (0.1 балла)** Есть ли в наборе данных бессмысленные столбцы (признаки, не несущие дополнительной информации)? Если да, то удалите их."
      ]
    },
    {
      "cell_type": "code",
      "metadata": {
        "id": "FGjbHEbl8ha1",
        "colab": {
          "base_uri": "https://localhost:8080/"
        },
        "outputId": "2d862166-1416-4b12-fcc2-20b81fdb2960"
      },
      "source": [
        "df.dtypes # Бессмысленные столбцы отсутствуют"
      ],
      "execution_count": 76,
      "outputs": [
        {
          "output_type": "execute_result",
          "data": {
            "text/plain": [
              "carat      float64\n",
              "cut         object\n",
              "color       object\n",
              "clarity     object\n",
              "depth      float64\n",
              "table      float64\n",
              "price        int64\n",
              "x          float64\n",
              "y          float64\n",
              "z          float64\n",
              "dtype: object"
            ]
          },
          "metadata": {
            "tags": []
          },
          "execution_count": 76
        }
      ]
    },
    {
      "cell_type": "markdown",
      "metadata": {
        "id": "1B8Uu0Hr8ha1"
      },
      "source": [
        "**Задача 3.3 (0.1 балла)** Линейная регрессия основана на предположении о линейной связи между признаками и целевой переменной, а потому перед выбором переменных для включения в модель имеет смысл проверить, насколько эта связь выполняется. Для следующих пунктов нам также потребуются выборочные корреляции между признаками. Выведите матрицу выборочных корреляций между всеми вещественными признаками и целевой переменной (то есть в этой матрице будет $k+1$ строка, где $k$ – количество вещественных признаков).\n",
        "\n",
        "Какие вещественные признаки коррелируют с целевой переменной больше всего?"
      ]
    },
    {
      "cell_type": "code",
      "metadata": {
        "id": "_QT6w-4V8ha2",
        "colab": {
          "base_uri": "https://localhost:8080/",
          "height": 248
        },
        "outputId": "5c847322-2ac3-49bb-d5b7-43ba435d1de2"
      },
      "source": [
        "df.corr() # С целевой переменной больше всего коррелируют carat, x, y, z"
      ],
      "execution_count": 77,
      "outputs": [
        {
          "output_type": "execute_result",
          "data": {
            "text/html": [
              "<div>\n",
              "<style scoped>\n",
              "    .dataframe tbody tr th:only-of-type {\n",
              "        vertical-align: middle;\n",
              "    }\n",
              "\n",
              "    .dataframe tbody tr th {\n",
              "        vertical-align: top;\n",
              "    }\n",
              "\n",
              "    .dataframe thead th {\n",
              "        text-align: right;\n",
              "    }\n",
              "</style>\n",
              "<table border=\"1\" class=\"dataframe\">\n",
              "  <thead>\n",
              "    <tr style=\"text-align: right;\">\n",
              "      <th></th>\n",
              "      <th>carat</th>\n",
              "      <th>depth</th>\n",
              "      <th>table</th>\n",
              "      <th>price</th>\n",
              "      <th>x</th>\n",
              "      <th>y</th>\n",
              "      <th>z</th>\n",
              "    </tr>\n",
              "  </thead>\n",
              "  <tbody>\n",
              "    <tr>\n",
              "      <th>carat</th>\n",
              "      <td>1.000000</td>\n",
              "      <td>0.028224</td>\n",
              "      <td>0.181618</td>\n",
              "      <td>0.921591</td>\n",
              "      <td>0.975094</td>\n",
              "      <td>0.951722</td>\n",
              "      <td>0.953387</td>\n",
              "    </tr>\n",
              "    <tr>\n",
              "      <th>depth</th>\n",
              "      <td>0.028224</td>\n",
              "      <td>1.000000</td>\n",
              "      <td>-0.295779</td>\n",
              "      <td>-0.010647</td>\n",
              "      <td>-0.025289</td>\n",
              "      <td>-0.029341</td>\n",
              "      <td>0.094924</td>\n",
              "    </tr>\n",
              "    <tr>\n",
              "      <th>table</th>\n",
              "      <td>0.181618</td>\n",
              "      <td>-0.295779</td>\n",
              "      <td>1.000000</td>\n",
              "      <td>0.127134</td>\n",
              "      <td>0.195344</td>\n",
              "      <td>0.183760</td>\n",
              "      <td>0.150929</td>\n",
              "    </tr>\n",
              "    <tr>\n",
              "      <th>price</th>\n",
              "      <td>0.921591</td>\n",
              "      <td>-0.010647</td>\n",
              "      <td>0.127134</td>\n",
              "      <td>1.000000</td>\n",
              "      <td>0.884435</td>\n",
              "      <td>0.865421</td>\n",
              "      <td>0.861249</td>\n",
              "    </tr>\n",
              "    <tr>\n",
              "      <th>x</th>\n",
              "      <td>0.975094</td>\n",
              "      <td>-0.025289</td>\n",
              "      <td>0.195344</td>\n",
              "      <td>0.884435</td>\n",
              "      <td>1.000000</td>\n",
              "      <td>0.974701</td>\n",
              "      <td>0.970772</td>\n",
              "    </tr>\n",
              "    <tr>\n",
              "      <th>y</th>\n",
              "      <td>0.951722</td>\n",
              "      <td>-0.029341</td>\n",
              "      <td>0.183760</td>\n",
              "      <td>0.865421</td>\n",
              "      <td>0.974701</td>\n",
              "      <td>1.000000</td>\n",
              "      <td>0.952006</td>\n",
              "    </tr>\n",
              "    <tr>\n",
              "      <th>z</th>\n",
              "      <td>0.953387</td>\n",
              "      <td>0.094924</td>\n",
              "      <td>0.150929</td>\n",
              "      <td>0.861249</td>\n",
              "      <td>0.970772</td>\n",
              "      <td>0.952006</td>\n",
              "      <td>1.000000</td>\n",
              "    </tr>\n",
              "  </tbody>\n",
              "</table>\n",
              "</div>"
            ],
            "text/plain": [
              "          carat     depth     table     price         x         y         z\n",
              "carat  1.000000  0.028224  0.181618  0.921591  0.975094  0.951722  0.953387\n",
              "depth  0.028224  1.000000 -0.295779 -0.010647 -0.025289 -0.029341  0.094924\n",
              "table  0.181618 -0.295779  1.000000  0.127134  0.195344  0.183760  0.150929\n",
              "price  0.921591 -0.010647  0.127134  1.000000  0.884435  0.865421  0.861249\n",
              "x      0.975094 -0.025289  0.195344  0.884435  1.000000  0.974701  0.970772\n",
              "y      0.951722 -0.029341  0.183760  0.865421  0.974701  1.000000  0.952006\n",
              "z      0.953387  0.094924  0.150929  0.861249  0.970772  0.952006  1.000000"
            ]
          },
          "metadata": {
            "tags": []
          },
          "execution_count": 77
        }
      ]
    },
    {
      "cell_type": "markdown",
      "metadata": {
        "id": "wKNZ0AIS8ha2"
      },
      "source": [
        "**Задача 3.4 (0.1 балла)** Так как линейная модель складывает значения признаков с некоторыми весами, нам нужно аккуратно обработать категориальные признаки. Закодируйте категориальные переменные при помощи OneHot-кодирования."
      ]
    },
    {
      "cell_type": "code",
      "metadata": {
        "id": "aUizYARd8ha3",
        "colab": {
          "base_uri": "https://localhost:8080/"
        },
        "outputId": "a69fc37f-485b-4001-b710-a742c9a06b5e"
      },
      "source": [
        "float_type = [type_col for type_col in list(df) if df[type_col].dtypes == 'float']\r\n",
        "df = pd.get_dummies(df)\r\n",
        "df.dtypes"
      ],
      "execution_count": 102,
      "outputs": [
        {
          "output_type": "execute_result",
          "data": {
            "text/plain": [
              "carat            float64\n",
              "depth            float64\n",
              "table            float64\n",
              "price              int64\n",
              "x                float64\n",
              "y                float64\n",
              "z                float64\n",
              "cut_Fair           uint8\n",
              "cut_Good           uint8\n",
              "cut_Ideal          uint8\n",
              "cut_Premium        uint8\n",
              "cut_Very Good      uint8\n",
              "color_D            uint8\n",
              "color_E            uint8\n",
              "color_F            uint8\n",
              "color_G            uint8\n",
              "color_H            uint8\n",
              "color_I            uint8\n",
              "color_J            uint8\n",
              "clarity_I1         uint8\n",
              "clarity_IF         uint8\n",
              "clarity_SI1        uint8\n",
              "clarity_SI2        uint8\n",
              "clarity_VS1        uint8\n",
              "clarity_VS2        uint8\n",
              "clarity_VVS1       uint8\n",
              "clarity_VVS2       uint8\n",
              "dtype: object"
            ]
          },
          "metadata": {
            "tags": []
          },
          "execution_count": 102
        }
      ]
    },
    {
      "cell_type": "markdown",
      "metadata": {
        "id": "CEUJ2xyWXSj4"
      },
      "source": [
        "**Логично сначала провести масштабирование всей выборки, а уже после выполнять разбиение**"
      ]
    },
    {
      "cell_type": "markdown",
      "metadata": {
        "id": "U7C-O0nY8ha4"
      },
      "source": [
        "**Задача 3.6 (0.3 балла)** Зачастую при использовании линейных моделей вещественные признаки масштабируются. При этом оценки коэффициентов теряют прямую статистическую интерпретацию (\"при увеличении $X_1$ на 1, $y$ увеличивается на $w_1$\"), но приобретают свойства, полезные в задачах машинного обучения. В этой задаче масштабируйте вещественные признаки тренировочной и тестовой выборок при помощи модуля `StandardScaler`."
      ]
    },
    {
      "cell_type": "code",
      "metadata": {
        "id": "Q--M232fWIMQ"
      },
      "source": [
        "fft = features[float_type]"
      ],
      "execution_count": 103,
      "outputs": []
    },
    {
      "cell_type": "code",
      "metadata": {
        "id": "zC0pOjQn8ha4"
      },
      "source": [
        "from sklearn.preprocessing import StandardScaler\r\n",
        "scaler = StandardScaler().fit(fft)"
      ],
      "execution_count": 104,
      "outputs": []
    },
    {
      "cell_type": "code",
      "metadata": {
        "colab": {
          "base_uri": "https://localhost:8080/",
          "height": 407
        },
        "id": "IAsrqV-hYAD7",
        "outputId": "3f5b12b8-0713-4ada-f3c5-43f50e4fe8ee"
      },
      "source": [
        "df.reset_index(drop=True, inplace=True)\r\n",
        "df[list(fft)] = pd.DataFrame(scaler.transform(fft), columns=list(fft))\r\n",
        "del fft\r\n",
        "df"
      ],
      "execution_count": 105,
      "outputs": [
        {
          "output_type": "execute_result",
          "data": {
            "text/html": [
              "<div>\n",
              "<style scoped>\n",
              "    .dataframe tbody tr th:only-of-type {\n",
              "        vertical-align: middle;\n",
              "    }\n",
              "\n",
              "    .dataframe tbody tr th {\n",
              "        vertical-align: top;\n",
              "    }\n",
              "\n",
              "    .dataframe thead th {\n",
              "        text-align: right;\n",
              "    }\n",
              "</style>\n",
              "<table border=\"1\" class=\"dataframe\">\n",
              "  <thead>\n",
              "    <tr style=\"text-align: right;\">\n",
              "      <th></th>\n",
              "      <th>carat</th>\n",
              "      <th>depth</th>\n",
              "      <th>table</th>\n",
              "      <th>price</th>\n",
              "      <th>x</th>\n",
              "      <th>y</th>\n",
              "      <th>z</th>\n",
              "      <th>cut_Fair</th>\n",
              "      <th>cut_Good</th>\n",
              "      <th>cut_Ideal</th>\n",
              "      <th>cut_Premium</th>\n",
              "      <th>cut_Very Good</th>\n",
              "      <th>color_D</th>\n",
              "      <th>color_E</th>\n",
              "      <th>color_F</th>\n",
              "      <th>color_G</th>\n",
              "      <th>color_H</th>\n",
              "      <th>color_I</th>\n",
              "      <th>color_J</th>\n",
              "      <th>clarity_I1</th>\n",
              "      <th>clarity_IF</th>\n",
              "      <th>clarity_SI1</th>\n",
              "      <th>clarity_SI2</th>\n",
              "      <th>clarity_VS1</th>\n",
              "      <th>clarity_VS2</th>\n",
              "      <th>clarity_VVS1</th>\n",
              "      <th>clarity_VVS2</th>\n",
              "    </tr>\n",
              "  </thead>\n",
              "  <tbody>\n",
              "    <tr>\n",
              "      <th>0</th>\n",
              "      <td>-1.198168</td>\n",
              "      <td>-0.174092</td>\n",
              "      <td>-1.099672</td>\n",
              "      <td>326</td>\n",
              "      <td>-1.587837</td>\n",
              "      <td>-1.536196</td>\n",
              "      <td>-1.571129</td>\n",
              "      <td>0</td>\n",
              "      <td>0</td>\n",
              "      <td>1</td>\n",
              "      <td>0</td>\n",
              "      <td>0</td>\n",
              "      <td>0</td>\n",
              "      <td>1</td>\n",
              "      <td>0</td>\n",
              "      <td>0</td>\n",
              "      <td>0</td>\n",
              "      <td>0</td>\n",
              "      <td>0</td>\n",
              "      <td>0</td>\n",
              "      <td>0</td>\n",
              "      <td>0</td>\n",
              "      <td>1</td>\n",
              "      <td>0</td>\n",
              "      <td>0</td>\n",
              "      <td>0</td>\n",
              "      <td>0</td>\n",
              "    </tr>\n",
              "    <tr>\n",
              "      <th>1</th>\n",
              "      <td>-1.240361</td>\n",
              "      <td>-1.360738</td>\n",
              "      <td>1.585529</td>\n",
              "      <td>326</td>\n",
              "      <td>-1.641325</td>\n",
              "      <td>-1.658774</td>\n",
              "      <td>-1.741175</td>\n",
              "      <td>0</td>\n",
              "      <td>0</td>\n",
              "      <td>0</td>\n",
              "      <td>1</td>\n",
              "      <td>0</td>\n",
              "      <td>0</td>\n",
              "      <td>1</td>\n",
              "      <td>0</td>\n",
              "      <td>0</td>\n",
              "      <td>0</td>\n",
              "      <td>0</td>\n",
              "      <td>0</td>\n",
              "      <td>0</td>\n",
              "      <td>0</td>\n",
              "      <td>1</td>\n",
              "      <td>0</td>\n",
              "      <td>0</td>\n",
              "      <td>0</td>\n",
              "      <td>0</td>\n",
              "      <td>0</td>\n",
              "    </tr>\n",
              "    <tr>\n",
              "      <th>2</th>\n",
              "      <td>-1.198168</td>\n",
              "      <td>-3.385019</td>\n",
              "      <td>3.375663</td>\n",
              "      <td>327</td>\n",
              "      <td>-1.498691</td>\n",
              "      <td>-1.457395</td>\n",
              "      <td>-1.741175</td>\n",
              "      <td>0</td>\n",
              "      <td>1</td>\n",
              "      <td>0</td>\n",
              "      <td>0</td>\n",
              "      <td>0</td>\n",
              "      <td>0</td>\n",
              "      <td>1</td>\n",
              "      <td>0</td>\n",
              "      <td>0</td>\n",
              "      <td>0</td>\n",
              "      <td>0</td>\n",
              "      <td>0</td>\n",
              "      <td>0</td>\n",
              "      <td>0</td>\n",
              "      <td>0</td>\n",
              "      <td>0</td>\n",
              "      <td>1</td>\n",
              "      <td>0</td>\n",
              "      <td>0</td>\n",
              "      <td>0</td>\n",
              "    </tr>\n",
              "    <tr>\n",
              "      <th>3</th>\n",
              "      <td>-1.071587</td>\n",
              "      <td>0.454133</td>\n",
              "      <td>0.242928</td>\n",
              "      <td>334</td>\n",
              "      <td>-1.364971</td>\n",
              "      <td>-1.317305</td>\n",
              "      <td>-1.287720</td>\n",
              "      <td>0</td>\n",
              "      <td>0</td>\n",
              "      <td>0</td>\n",
              "      <td>1</td>\n",
              "      <td>0</td>\n",
              "      <td>0</td>\n",
              "      <td>0</td>\n",
              "      <td>0</td>\n",
              "      <td>0</td>\n",
              "      <td>0</td>\n",
              "      <td>1</td>\n",
              "      <td>0</td>\n",
              "      <td>0</td>\n",
              "      <td>0</td>\n",
              "      <td>0</td>\n",
              "      <td>0</td>\n",
              "      <td>0</td>\n",
              "      <td>1</td>\n",
              "      <td>0</td>\n",
              "      <td>0</td>\n",
              "    </tr>\n",
              "    <tr>\n",
              "      <th>4</th>\n",
              "      <td>-1.029394</td>\n",
              "      <td>1.082358</td>\n",
              "      <td>0.242928</td>\n",
              "      <td>335</td>\n",
              "      <td>-1.240167</td>\n",
              "      <td>-1.212238</td>\n",
              "      <td>-1.117674</td>\n",
              "      <td>0</td>\n",
              "      <td>1</td>\n",
              "      <td>0</td>\n",
              "      <td>0</td>\n",
              "      <td>0</td>\n",
              "      <td>0</td>\n",
              "      <td>0</td>\n",
              "      <td>0</td>\n",
              "      <td>0</td>\n",
              "      <td>0</td>\n",
              "      <td>0</td>\n",
              "      <td>1</td>\n",
              "      <td>0</td>\n",
              "      <td>0</td>\n",
              "      <td>0</td>\n",
              "      <td>1</td>\n",
              "      <td>0</td>\n",
              "      <td>0</td>\n",
              "      <td>0</td>\n",
              "      <td>0</td>\n",
              "    </tr>\n",
              "    <tr>\n",
              "      <th>...</th>\n",
              "      <td>...</td>\n",
              "      <td>...</td>\n",
              "      <td>...</td>\n",
              "      <td>...</td>\n",
              "      <td>...</td>\n",
              "      <td>...</td>\n",
              "      <td>...</td>\n",
              "      <td>...</td>\n",
              "      <td>...</td>\n",
              "      <td>...</td>\n",
              "      <td>...</td>\n",
              "      <td>...</td>\n",
              "      <td>...</td>\n",
              "      <td>...</td>\n",
              "      <td>...</td>\n",
              "      <td>...</td>\n",
              "      <td>...</td>\n",
              "      <td>...</td>\n",
              "      <td>...</td>\n",
              "      <td>...</td>\n",
              "      <td>...</td>\n",
              "      <td>...</td>\n",
              "      <td>...</td>\n",
              "      <td>...</td>\n",
              "      <td>...</td>\n",
              "      <td>...</td>\n",
              "      <td>...</td>\n",
              "    </tr>\n",
              "    <tr>\n",
              "      <th>53935</th>\n",
              "      <td>-0.164427</td>\n",
              "      <td>-0.662711</td>\n",
              "      <td>-0.204605</td>\n",
              "      <td>2757</td>\n",
              "      <td>0.016798</td>\n",
              "      <td>0.022304</td>\n",
              "      <td>-0.054888</td>\n",
              "      <td>0</td>\n",
              "      <td>0</td>\n",
              "      <td>1</td>\n",
              "      <td>0</td>\n",
              "      <td>0</td>\n",
              "      <td>1</td>\n",
              "      <td>0</td>\n",
              "      <td>0</td>\n",
              "      <td>0</td>\n",
              "      <td>0</td>\n",
              "      <td>0</td>\n",
              "      <td>0</td>\n",
              "      <td>0</td>\n",
              "      <td>0</td>\n",
              "      <td>1</td>\n",
              "      <td>0</td>\n",
              "      <td>0</td>\n",
              "      <td>0</td>\n",
              "      <td>0</td>\n",
              "      <td>0</td>\n",
              "    </tr>\n",
              "    <tr>\n",
              "      <th>53936</th>\n",
              "      <td>-0.164427</td>\n",
              "      <td>0.942753</td>\n",
              "      <td>-1.099672</td>\n",
              "      <td>2757</td>\n",
              "      <td>-0.036690</td>\n",
              "      <td>0.013548</td>\n",
              "      <td>0.100988</td>\n",
              "      <td>0</td>\n",
              "      <td>1</td>\n",
              "      <td>0</td>\n",
              "      <td>0</td>\n",
              "      <td>0</td>\n",
              "      <td>1</td>\n",
              "      <td>0</td>\n",
              "      <td>0</td>\n",
              "      <td>0</td>\n",
              "      <td>0</td>\n",
              "      <td>0</td>\n",
              "      <td>0</td>\n",
              "      <td>0</td>\n",
              "      <td>0</td>\n",
              "      <td>1</td>\n",
              "      <td>0</td>\n",
              "      <td>0</td>\n",
              "      <td>0</td>\n",
              "      <td>0</td>\n",
              "      <td>0</td>\n",
              "    </tr>\n",
              "    <tr>\n",
              "      <th>53937</th>\n",
              "      <td>-0.206621</td>\n",
              "      <td>0.733344</td>\n",
              "      <td>1.137995</td>\n",
              "      <td>2757</td>\n",
              "      <td>-0.063434</td>\n",
              "      <td>-0.047741</td>\n",
              "      <td>0.030135</td>\n",
              "      <td>0</td>\n",
              "      <td>0</td>\n",
              "      <td>0</td>\n",
              "      <td>0</td>\n",
              "      <td>1</td>\n",
              "      <td>1</td>\n",
              "      <td>0</td>\n",
              "      <td>0</td>\n",
              "      <td>0</td>\n",
              "      <td>0</td>\n",
              "      <td>0</td>\n",
              "      <td>0</td>\n",
              "      <td>0</td>\n",
              "      <td>0</td>\n",
              "      <td>1</td>\n",
              "      <td>0</td>\n",
              "      <td>0</td>\n",
              "      <td>0</td>\n",
              "      <td>0</td>\n",
              "      <td>0</td>\n",
              "    </tr>\n",
              "    <tr>\n",
              "      <th>53938</th>\n",
              "      <td>0.130927</td>\n",
              "      <td>-0.523105</td>\n",
              "      <td>0.242928</td>\n",
              "      <td>2757</td>\n",
              "      <td>0.373383</td>\n",
              "      <td>0.337506</td>\n",
              "      <td>0.285204</td>\n",
              "      <td>0</td>\n",
              "      <td>0</td>\n",
              "      <td>0</td>\n",
              "      <td>1</td>\n",
              "      <td>0</td>\n",
              "      <td>0</td>\n",
              "      <td>0</td>\n",
              "      <td>0</td>\n",
              "      <td>0</td>\n",
              "      <td>1</td>\n",
              "      <td>0</td>\n",
              "      <td>0</td>\n",
              "      <td>0</td>\n",
              "      <td>0</td>\n",
              "      <td>0</td>\n",
              "      <td>1</td>\n",
              "      <td>0</td>\n",
              "      <td>0</td>\n",
              "      <td>0</td>\n",
              "      <td>0</td>\n",
              "    </tr>\n",
              "    <tr>\n",
              "      <th>53939</th>\n",
              "      <td>-0.101137</td>\n",
              "      <td>0.314528</td>\n",
              "      <td>-1.099672</td>\n",
              "      <td>2757</td>\n",
              "      <td>0.088115</td>\n",
              "      <td>0.118616</td>\n",
              "      <td>0.143499</td>\n",
              "      <td>0</td>\n",
              "      <td>0</td>\n",
              "      <td>1</td>\n",
              "      <td>0</td>\n",
              "      <td>0</td>\n",
              "      <td>1</td>\n",
              "      <td>0</td>\n",
              "      <td>0</td>\n",
              "      <td>0</td>\n",
              "      <td>0</td>\n",
              "      <td>0</td>\n",
              "      <td>0</td>\n",
              "      <td>0</td>\n",
              "      <td>0</td>\n",
              "      <td>0</td>\n",
              "      <td>1</td>\n",
              "      <td>0</td>\n",
              "      <td>0</td>\n",
              "      <td>0</td>\n",
              "      <td>0</td>\n",
              "    </tr>\n",
              "  </tbody>\n",
              "</table>\n",
              "<p>53940 rows × 27 columns</p>\n",
              "</div>"
            ],
            "text/plain": [
              "          carat     depth     table  ...  clarity_VS2  clarity_VVS1  clarity_VVS2\n",
              "0     -1.198168 -0.174092 -1.099672  ...            0             0             0\n",
              "1     -1.240361 -1.360738  1.585529  ...            0             0             0\n",
              "2     -1.198168 -3.385019  3.375663  ...            0             0             0\n",
              "3     -1.071587  0.454133  0.242928  ...            1             0             0\n",
              "4     -1.029394  1.082358  0.242928  ...            0             0             0\n",
              "...         ...       ...       ...  ...          ...           ...           ...\n",
              "53935 -0.164427 -0.662711 -0.204605  ...            0             0             0\n",
              "53936 -0.164427  0.942753 -1.099672  ...            0             0             0\n",
              "53937 -0.206621  0.733344  1.137995  ...            0             0             0\n",
              "53938  0.130927 -0.523105  0.242928  ...            0             0             0\n",
              "53939 -0.101137  0.314528 -1.099672  ...            0             0             0\n",
              "\n",
              "[53940 rows x 27 columns]"
            ]
          },
          "metadata": {
            "tags": []
          },
          "execution_count": 105
        }
      ]
    },
    {
      "cell_type": "markdown",
      "metadata": {
        "id": "NbB7kRHv8ha3"
      },
      "source": [
        "**Задача 3.5 (0.2 балла)** Разделите выборку на тренировочную и тестовую. Долю тестовой выборки укажите равной 0.3."
      ]
    },
    {
      "cell_type": "code",
      "metadata": {
        "id": "Aq8TOf52TjN_"
      },
      "source": [
        "features = df.drop('price', 1) \r\n",
        "labels = df['price'] \r\n",
        "del df"
      ],
      "execution_count": 106,
      "outputs": []
    },
    {
      "cell_type": "code",
      "metadata": {
        "id": "HuJcxzNCUksr"
      },
      "source": [
        "from sklearn.model_selection import train_test_split \r\n",
        "\r\n",
        "features_train, features_test, labels_train, labels_test = train_test_split(features, labels, test_size=0.3, random_state = 0) "
      ],
      "execution_count": 107,
      "outputs": []
    },
    {
      "cell_type": "code",
      "metadata": {
        "colab": {
          "base_uri": "https://localhost:8080/"
        },
        "id": "ukHY2zjeVCAi",
        "outputId": "8c3df728-e6ab-4443-a558-3dce87ab032a"
      },
      "source": [
        "print('Feature_test size : ', features_test.shape)\r\n",
        "print('Feature_train size: ', features_train.shape)\r\n",
        "print('Labels_test size  : ', labels_test.shape)\r\n",
        "print('Labels_train size : ', labels_train.shape)"
      ],
      "execution_count": 108,
      "outputs": [
        {
          "output_type": "stream",
          "text": [
            "Feature_test size :  (16182, 26)\n",
            "Feature_train size:  (37758, 26)\n",
            "Labels_test size  :  (16182,)\n",
            "Labels_train size :  (37758,)\n"
          ],
          "name": "stdout"
        }
      ]
    },
    {
      "cell_type": "markdown",
      "metadata": {
        "id": "Y1nyT2vn8ha5"
      },
      "source": [
        "**Задача 3.7 (0.2 балла)** Оцените линейную регрессию на тренировочной выборке. Выведите среднеквадратичную ошибку на тренировочной и тестовой выборках."
      ]
    },
    {
      "cell_type": "code",
      "metadata": {
        "id": "PI8Dx2Wv8ha5"
      },
      "source": [
        "from sklearn.linear_model import LinearRegression\r\n",
        "from sklearn.metrics import mean_squared_error"
      ],
      "execution_count": 115,
      "outputs": []
    },
    {
      "cell_type": "code",
      "metadata": {
        "id": "U31siiUMZJGK"
      },
      "source": [
        "lr = LinearRegression().fit(features_train, labels_train)\r\n",
        "label_train_predicted = lr.predict(features_train)\r\n",
        "label_test_predicted = lr.predict(features_test)"
      ],
      "execution_count": 117,
      "outputs": []
    },
    {
      "cell_type": "code",
      "metadata": {
        "colab": {
          "base_uri": "https://localhost:8080/"
        },
        "id": "6GON5as8ZTLD",
        "outputId": "7b46d149-2532-47fa-a088-973a586b6097"
      },
      "source": [
        "print('Train MSE: ', mean_squared_error(labels_train, label_train_predicted))\r\n",
        "print('Test MSE: ', mean_squared_error(labels_test, label_test_predicted))"
      ],
      "execution_count": 120,
      "outputs": [
        {
          "output_type": "stream",
          "text": [
            "Train MSE:  1284661.862119126\n",
            "Test MSE:  1259159.1137946642\n"
          ],
          "name": "stdout"
        }
      ]
    },
    {
      "cell_type": "markdown",
      "metadata": {
        "id": "PtT1789y8ha6"
      },
      "source": [
        "**Задача 3.8 (0.2 балла)** Изучите документацию модуля `LinearRegression` и выведите полученные оценки коэффициентов. Назовите вещественные переменные, оценки коэффициентов которых по модулю на порядок превышают оценки прочих вещественных переменных."
      ]
    },
    {
      "cell_type": "code",
      "metadata": {
        "id": "szOVY7TC8ha6",
        "colab": {
          "base_uri": "https://localhost:8080/"
        },
        "outputId": "6e6bb83c-ca26-472f-e413-c0b8d86e100e"
      },
      "source": [
        "dict(zip(list(features), lr.coef_))\r\n",
        "# Ответ на вопрос: carat, x."
      ],
      "execution_count": 139,
      "outputs": [
        {
          "output_type": "execute_result",
          "data": {
            "text/plain": [
              "{'carat': 5270.638421570064,\n",
              " 'clarity_I1': -3818.3704990636193,\n",
              " 'clarity_IF': 1515.18456981375,\n",
              " 'clarity_SI1': -147.9924067299131,\n",
              " 'clarity_SI2': -1116.5024006701851,\n",
              " 'clarity_VS1': 774.0777676909,\n",
              " 'clarity_VS2': 454.18688184514883,\n",
              " 'clarity_VVS1': 1203.1880837405163,\n",
              " 'clarity_VVS2': 1136.2280033733994,\n",
              " 'color_D': 797.7003895538991,\n",
              " 'color_E': 617.0824170899016,\n",
              " 'color_F': 560.7756953016379,\n",
              " 'color_G': 347.14185621122897,\n",
              " 'color_H': -145.91765413354017,\n",
              " 'color_I': -631.1079429872657,\n",
              " 'color_J': -1545.6747610358657,\n",
              " 'cut_Fair': -551.5314786554883,\n",
              " 'cut_Good': -9.891610132559505,\n",
              " 'cut_Ideal': 244.2553382096982,\n",
              " 'cut_Premium': 170.26605627564035,\n",
              " 'cut_Very Good': 146.90169430271078,\n",
              " 'depth': -94.14858778048972,\n",
              " 'table': -65.67278227525036,\n",
              " 'x': -1048.7071789121285,\n",
              " 'y': -2.61775813604594,\n",
              " 'z': -40.25781526746867}"
            ]
          },
          "metadata": {
            "tags": []
          },
          "execution_count": 139
        }
      ]
    },
    {
      "cell_type": "markdown",
      "metadata": {
        "id": "0JjFL8la8ha7"
      },
      "source": [
        "**Задача 3.9 (0.4 балла)** Как можно заметить из анализа корреляционной матрицы в задаче 3.3, между некоторыми признаками имеется сильная корреляция, что может быть индикатором проблемы *мультиколлинеарности*. Различия в порядке коэффициентов, выявленные в предыдущей задаче также намекают на её присутствие. Как известно, для решения этой проблемы можно либо исключить некоторые признаки из модели, либо использовать регуляризацию. Мы воспользуемся вторым вариантом. \n",
        "\n",
        "Вспомним, что смысл регуляризации заключается в том, чтобы изменить функцию потерь так, чтобы устранить проблемы, появляющиеся из-за мультиколлинеарности. При L1-регуляризации предлагается минимизировать следующую функцию потерь:\n",
        "\n",
        "$$\n",
        "\\|y - X\\hat{w}\\|^2 + \\alpha\\sum_{i=1}^k|w_i|\n",
        "$$\n",
        "\n",
        "Такая модель называется Lasso-регрессией.\n",
        "\n",
        "При L2-регуляризации предлагается минимизировать следующую функцию потерь:\n",
        "\n",
        "$$\n",
        "\\|y - X\\hat{w}\\|^2 + \\frac{1}{2}\\alpha\\|w\\|^2\n",
        "$$\n",
        "\n",
        "Такая модель называется Ridge-регрессией. \n",
        "\n",
        "Обучите Lasso-регрессию и Ridge-регрессию, уставновив гиперпараметр регуляризации равным 10. Для этого используйте модули `Lasso` и `Ridge` из `sklearn`. Сильно ли уменьшились веса? Сделайте вывод о том, насколько сильно проблема мультиколлинеарности проявлялась в изначальной регрессии."
      ]
    },
    {
      "cell_type": "code",
      "metadata": {
        "id": "qfe7EbiSenB-"
      },
      "source": [
        "from sklearn.linear_model import Lasso\r\n",
        "from sklearn.linear_model import Ridge"
      ],
      "execution_count": 154,
      "outputs": []
    },
    {
      "cell_type": "code",
      "metadata": {
        "id": "6bWIg9Wx8ha7",
        "colab": {
          "base_uri": "https://localhost:8080/"
        },
        "outputId": "38c1f07c-7e61-456c-dd23-a5dc81fc4cd7"
      },
      "source": [
        "clf = Lasso(alpha=10).fit(features_train, labels_train)\r\n",
        "label_train_predicted = clf.predict(features_train)\r\n",
        "label_test_predicted = clf.predict(features_test)\r\n",
        "\r\n",
        "# Какие-то веса уменьшились незначительно. Какие-то обратились в 0.\r\n",
        "# MSE по выборкам увеличилась. Грустно.\r\n",
        "print('Train MSE: ', mean_squared_error(labels_train, label_train_predicted))\r\n",
        "print('Test MSE: ', mean_squared_error(labels_test, label_test_predicted))\r\n",
        "dict(zip(list(features), clf.coef_))"
      ],
      "execution_count": 155,
      "outputs": [
        {
          "output_type": "stream",
          "text": [
            "Train MSE:  1321182.1741795854\n",
            "Test MSE:  1306024.0601814084\n"
          ],
          "name": "stdout"
        },
        {
          "output_type": "execute_result",
          "data": {
            "text/plain": [
              "{'carat': 4798.152608796665,\n",
              " 'clarity_I1': -3605.06913371211,\n",
              " 'clarity_IF': 669.6781447874665,\n",
              " 'clarity_SI1': -630.2838964844893,\n",
              " 'clarity_SI2': -1537.3491801642504,\n",
              " 'clarity_VS1': 165.14550332988554,\n",
              " 'clarity_VS2': -20.121104584068433,\n",
              " 'clarity_VVS1': 527.0514214896201,\n",
              " 'clarity_VVS2': 508.3113418563314,\n",
              " 'color_D': 302.578222758915,\n",
              " 'color_E': 164.66619248254037,\n",
              " 'color_F': 118.93177577509252,\n",
              " 'color_G': 0.0,\n",
              " 'color_H': -432.87701641748004,\n",
              " 'color_I': -852.3025884517089,\n",
              " 'color_J': -1661.3544627284218,\n",
              " 'cut_Fair': -398.522253102656,\n",
              " 'cut_Good': -36.41764073047955,\n",
              " 'cut_Ideal': 85.02349429866871,\n",
              " 'cut_Premium': 0.0,\n",
              " 'cut_Very Good': 0.0,\n",
              " 'depth': -104.23846424843846,\n",
              " 'table': -85.65643172960458,\n",
              " 'x': -650.4878745147034,\n",
              " 'y': -0.0,\n",
              " 'z': -42.02306421180181}"
            ]
          },
          "metadata": {
            "tags": []
          },
          "execution_count": 155
        }
      ]
    },
    {
      "cell_type": "code",
      "metadata": {
        "colab": {
          "base_uri": "https://localhost:8080/"
        },
        "id": "0CaWzMGSeOyE",
        "outputId": "fd79e51f-1409-49eb-a120-89235f00343a"
      },
      "source": [
        "clf = Ridge(alpha=10).fit(features_train, labels_train)\r\n",
        "label_train_predicted = clf.predict(features_train)\r\n",
        "label_test_predicted = clf.predict(features_test)\r\n",
        "\r\n",
        "# Какие-то веса уменьшились незначительно.\r\n",
        "# MSE изменилось незначительно.\r\n",
        "print('Train MSE: ', mean_squared_error(labels_train, label_train_predicted))\r\n",
        "print('Test MSE: ', mean_squared_error(labels_test, label_test_predicted))\r\n",
        "dict(zip(list(features), clf.coef_))"
      ],
      "execution_count": 156,
      "outputs": [
        {
          "output_type": "stream",
          "text": [
            "Train MSE:  1284817.3376314284\n",
            "Test MSE:  1260075.2692373227\n"
          ],
          "name": "stdout"
        },
        {
          "output_type": "execute_result",
          "data": {
            "text/plain": [
              "{'carat': 5232.319323541237,\n",
              " 'clarity_I1': -3748.577395194704,\n",
              " 'clarity_IF': 1496.065708971166,\n",
              " 'clarity_SI1': -155.70695430293966,\n",
              " 'clarity_SI2': -1119.7627390727193,\n",
              " 'clarity_VS1': 764.4677054560942,\n",
              " 'clarity_VS2': 446.05585404643756,\n",
              " 'clarity_VVS1': 1191.6290462949535,\n",
              " 'clarity_VVS2': 1125.8287738006788,\n",
              " 'color_D': 792.9518277796655,\n",
              " 'color_E': 613.5109024782855,\n",
              " 'color_F': 557.3557323847621,\n",
              " 'color_G': 345.5031215617281,\n",
              " 'color_H': -146.38729983628,\n",
              " 'color_I': -627.9100895842593,\n",
              " 'color_J': -1535.0241947831835,\n",
              " 'cut_Fair': -554.3153462554503,\n",
              " 'cut_Good': -9.73170059893759,\n",
              " 'cut_Ideal': 245.2882935465636,\n",
              " 'cut_Premium': 170.48987642439215,\n",
              " 'cut_Very Good': 148.26887688258932,\n",
              " 'depth': -92.75934830909458,\n",
              " 'table': -66.0644506792768,\n",
              " 'x': -1008.9795865440507,\n",
              " 'y': -4.3414985794048375,\n",
              " 'z': -43.59548414798779}"
            ]
          },
          "metadata": {
            "tags": []
          },
          "execution_count": 156
        }
      ]
    },
    {
      "cell_type": "markdown",
      "metadata": {
        "id": "Vz1LS4lK8ha8"
      },
      "source": [
        "**Задача 3.10 (0.4 балла)** Как обсуждалось на семинарах, Lasso-регрессию можно использовать для отбора наиболее информативных признаков. Для следующих значений параметра регуляриазции $\\alpha$: 0.1, 1, 10, 100, 200 –  обучите Lasso- и Ridge-регрессии и постройте график измненения евклидовой нормы весов (`np.linalg.norm()` от вектора оценок коэффициентов) в зависимости от параметра $\\alpha$. Как известно, норма является численной характеристикой величины вектора, а потому по норме можно судить о том, насколько большие элементы содержит вектор оценок коэффициентов. \n",
        "\n",
        "Какой метод агрессивнее уменьшает веса? Поясните, почему Lasso-регрессию часто используют для отбора признаков."
      ]
    },
    {
      "cell_type": "code",
      "metadata": {
        "id": "OuFn6kpM8ha8",
        "colab": {
          "base_uri": "https://localhost:8080/"
        },
        "outputId": "d28d91bb-b602-4e65-e88c-7b31d74dea3a"
      },
      "source": [
        "Lmas = []\r\n",
        "Rmas = []\r\n",
        "alpha = [0.1, 1, 10, 100, 200]\r\n",
        "\r\n",
        "for a in alpha:\r\n",
        "  Lasso_clf = Lasso(alpha=a).fit(features_train, labels_train)\r\n",
        "  Ridge_clf = Ridge(alpha=a).fit(features_train, labels_train)\r\n",
        "  Lmas.append(np.linalg.norm(Lasso_clf.coef_))\r\n",
        "  Rmas.append(np.linalg.norm(Ridge_clf.coef_))"
      ],
      "execution_count": 166,
      "outputs": [
        {
          "output_type": "stream",
          "text": [
            "/usr/local/lib/python3.7/dist-packages/sklearn/linear_model/_coordinate_descent.py:476: ConvergenceWarning: Objective did not converge. You might want to increase the number of iterations. Duality gap: 73024355.61006927, tolerance: 60080607.47091246\n",
            "  positive)\n"
          ],
          "name": "stderr"
        }
      ]
    },
    {
      "cell_type": "code",
      "metadata": {
        "id": "2nJ9rGJsoy-i"
      },
      "source": [
        "from matplotlib.pyplot import xscale, yscale"
      ],
      "execution_count": 188,
      "outputs": []
    },
    {
      "cell_type": "code",
      "metadata": {
        "colab": {
          "base_uri": "https://localhost:8080/",
          "height": 803
        },
        "id": "Jjm-LZHvlobo",
        "outputId": "38141a43-0907-4f9a-a16c-d9b66530cb8f"
      },
      "source": [
        "plt.figure(figsize=(10,12))\r\n",
        "plt.suptitle(\"Графики в логарифмическом масштабе\")\r\n",
        "\r\n",
        "plt.subplot(2, 1, 1)\r\n",
        "plt.title(\"Lasso\")\r\n",
        "plt.xlabel(\"Alpha\")\r\n",
        "plt.ylabel(\"Евклидова норма весов\")\r\n",
        "xscale('log') # Логарифмический масштаб отключается тут\r\n",
        "plt.plot(alpha, Lmas, 'o-')\r\n",
        "\r\n",
        "plt.subplot(2, 1, 2)\r\n",
        "plt.title(\"Ridge\")\r\n",
        "plt.xlabel(\"Alpha\")\r\n",
        "plt.ylabel(\"Евклидова норма весов\")\r\n",
        "xscale('log') # Логарифмический масштаб отключается тут\r\n",
        "plt.plot(alpha, Rmas, 'o-')\r\n",
        "\r\n",
        "plt.show()"
      ],
      "execution_count": 191,
      "outputs": [
        {
          "output_type": "display_data",
          "data": {
            "image/png": "[encoded data removed]",
            "text/plain": [
              "<Figure size 720x864 with 2 Axes>"
            ]
          },
          "metadata": {
            "tags": [],
            "needs_background": "light"
          }
        }
      ]
    },
    {
      "cell_type": "markdown",
      "metadata": {
        "id": "3ViwCcg98ha9"
      },
      "source": [
        "**Задача 3.11 (0.5 балла)** \n",
        "В зависимости от значения параметра $\\alpha$ в Lasso-регрессии зануляются разные оценки коэффициентов. Оптимальное значение $\\alpha$ можно подобрать, например, при помощи кросс-валидации по тренировочной выборке. \n",
        "\n",
        "Для проведения кросс-валидации можно использовать модуль `LassoCV`. Этот модуль принимает список значений $\\alpha$ (параметр `alphas`) и при обучении проводит кросс-валидацию для каждого значения из этого списка, сохраняя MSE на каждом участке кросс-валидации (количество участков – параметр `cv`) в матрицу ошибок (то есть итоговая матрица будет иметь размер `len(alphas)` $\\times$ `cv`). После обучения модели матрицу ошибок можно получить, обратившись к атрибуту `.mse_path_`. \n",
        "\n",
        "Заметим, что модель может использовать $\\alpha$ не в том порядке, в котором вы подаёте их в функцию: для определения порядка используйте атрибут `.alphas_` Установите количество участков для кросс-валидации (параметр `cv`) равным 5.\n",
        "\n",
        "Усредните ошибки для каждого значения $\\alpha$ (то есть по строкам матрицы ошибок) и выберите то значение, которое даёт наибольшее качество. "
      ]
    },
    {
      "cell_type": "code",
      "metadata": {
        "id": "9ANy07Lk8ha9"
      },
      "source": [
        "from sklearn.linear_model import LassoCV"
      ],
      "execution_count": 192,
      "outputs": []
    },
    {
      "cell_type": "code",
      "metadata": {
        "id": "rZ8z3jEgq6OW",
        "outputId": "75d36ab8-ff4f-4a7e-c20a-7b294698fee9",
        "colab": {
          "base_uri": "https://localhost:8080/"
        }
      },
      "source": [
        "reg = LassoCV(cv=5, alphas=alpha, random_state=0).fit(features_train, labels_train)"
      ],
      "execution_count": 193,
      "outputs": [
        {
          "output_type": "stream",
          "text": [
            "/usr/local/lib/python3.7/dist-packages/sklearn/linear_model/_coordinate_descent.py:472: ConvergenceWarning: Objective did not converge. You might want to increase the number of iterations. Duality gap: 1142417677.9848938, tolerance: 48309472.87280814\n",
            "  tol, rng, random, positive)\n"
          ],
          "name": "stderr"
        }
      ]
    },
    {
      "cell_type": "code",
      "metadata": {
        "id": "mMfAvopFr8Qu",
        "outputId": "a332c21d-65af-49d2-c8f1-3115bcdd86ca",
        "colab": {
          "base_uri": "https://localhost:8080/"
        }
      },
      "source": [
        "reg.alphas_"
      ],
      "execution_count": 195,
      "outputs": [
        {
          "output_type": "execute_result",
          "data": {
            "text/plain": [
              "array([2.e+02, 1.e+02, 1.e+01, 1.e+00, 1.e-01])"
            ]
          },
          "metadata": {
            "tags": []
          },
          "execution_count": 195
        }
      ]
    },
    {
      "cell_type": "code",
      "metadata": {
        "id": "mruJfaUYrreq",
        "outputId": "42c43fd2-0c57-482f-8a9d-b97f7a3fe4fd",
        "colab": {
          "base_uri": "https://localhost:8080/"
        }
      },
      "source": [
        "np.mean(reg.mse_path_, axis = 1)"
      ],
      "execution_count": 196,
      "outputs": [
        {
          "output_type": "execute_result",
          "data": {
            "text/plain": [
              "array([2448930.48224247, 2240289.16272235, 1324051.32692415,\n",
              "       1288026.24920566, 1293062.2061094 ])"
            ]
          },
          "metadata": {
            "tags": []
          },
          "execution_count": 196
        }
      ]
    },
    {
      "cell_type": "code",
      "metadata": {
        "id": "dOxKsomdshrw",
        "outputId": "f8ec8a8f-8013-47c2-f0d4-ac2ab63fdc14",
        "colab": {
          "base_uri": "https://localhost:8080/"
        }
      },
      "source": [
        "dict(zip(reg.alphas_, np.mean(reg.mse_path_, axis = 1))) # Наилучшая alpha = 1"
      ],
      "execution_count": 197,
      "outputs": [
        {
          "output_type": "execute_result",
          "data": {
            "text/plain": [
              "{0.1: 1293062.2061093962,\n",
              " 1.0: 1288026.249205664,\n",
              " 10.0: 1324051.3269241482,\n",
              " 100.0: 2240289.162722352,\n",
              " 200.0: 2448930.482242474}"
            ]
          },
          "metadata": {
            "tags": []
          },
          "execution_count": 197
        }
      ]
    },
    {
      "cell_type": "markdown",
      "metadata": {
        "id": "0Qfwq1s18ha-"
      },
      "source": [
        "**Задача 3.12 (0.5 балла)** Обучите итоговую Lasso-регрессию с выбранным параметром $\\alpha$ на тренировочной выборке. Выведите полученные коэффициенты и прокомментируйте, какие признаки оказались неинформативными, а какие – наиболее информативными. Приведите возможное смысловое объяснение этого результата."
      ]
    },
    {
      "cell_type": "code",
      "metadata": {
        "id": "AfW7YnF-8ha-",
        "colab": {
          "base_uri": "https://localhost:8080/"
        },
        "outputId": "a22baab4-6308-41cd-e477-100de6132781"
      },
      "source": [
        "Lasso_clf = Lasso(alpha=1).fit(features_train, labels_train)\r\n",
        "dict(zip(list(features), Lasso_clf.coef_))\r\n",
        "# Наиболее информативные признаки: carat, clarity_I1 и некоторые другие\r\n",
        "# Наименее инфомративные признаки: color_G, cut_Very Good и некоторые другие"
      ],
      "execution_count": 199,
      "outputs": [
        {
          "output_type": "execute_result",
          "data": {
            "text/plain": [
              "{'carat': 5223.29041461956,\n",
              " 'clarity_I1': -4289.837663822793,\n",
              " 'clarity_IF': 937.6137684798124,\n",
              " 'clarity_SI1': -689.3026789369175,\n",
              " 'clarity_SI2': -1651.6074715665536,\n",
              " 'clarity_VS1': 220.16769582605875,\n",
              " 'clarity_VS2': -86.22188510045973,\n",
              " 'clarity_VVS1': 642.5000002241258,\n",
              " 'clarity_VVS2': 580.2637473574131,\n",
              " 'color_D': 436.16736333123754,\n",
              " 'color_E': 259.7345197252626,\n",
              " 'color_F': 204.45661985370486,\n",
              " 'color_G': 0.0,\n",
              " 'color_H': -486.7301731223547,\n",
              " 'color_I': -965.4378432904068,\n",
              " 'color_J': -1869.4763573354326,\n",
              " 'cut_Fair': -670.1721769646108,\n",
              " 'cut_Good': -146.6875024962329,\n",
              " 'cut_Ideal': 94.37906138327135,\n",
              " 'cut_Premium': 17.350993598607666,\n",
              " 'cut_Very Good': 0.0,\n",
              " 'depth': -95.18612845072404,\n",
              " 'table': -67.50776337583001,\n",
              " 'x': -1010.2909011579744,\n",
              " 'y': -0.07097536080406394,\n",
              " 'z': -41.083327874164446}"
            ]
          },
          "metadata": {
            "tags": []
          },
          "execution_count": 199
        }
      ]
    },
    {
      "cell_type": "markdown",
      "metadata": {
        "id": "zd3fzSQd8ha-"
      },
      "source": [
        "**Задача 3.13 (0.4 балла)** Сделайте предсказания обученной Lasso-регрессии на тестовой выборке и сравните среднеквадратичную ошибку с ошибкой обычной линейной регрессии из задачи 3.7. Какую модель лучше использовать для предсказаний? Приведите возможное объяснение, почему одна модель оказалась лучше другой."
      ]
    },
    {
      "cell_type": "code",
      "metadata": {
        "id": "pXEmCJ888ha_",
        "colab": {
          "base_uri": "https://localhost:8080/"
        },
        "outputId": "eb7bc59f-a7c4-443f-b755-8386d2fb3314"
      },
      "source": [
        "print (\"Test: {}\".format(mean_squared_error(labels_test, Lasso_clf.predict(features_test))))\r\n",
        "\"\"\"\r\n",
        "Ошибка на test получилась чуть больше. Возможно, это произошло из-за того, \r\n",
        "что мы недостаточно точно подобрали параметр alpha. Возможно, на данных данных\r\n",
        "мультиколинеарность не является сильновыраженной. Возможно, так происходит \r\n",
        "из-за того, что обычная модель учитывает все параметры в более правильном соотношении.\r\n",
        "Для предсказаний лучше использовать модель без регуляризации.\r\n",
        "\"\"\""
      ],
      "execution_count": 201,
      "outputs": [
        {
          "output_type": "stream",
          "text": [
            "Test: 1260728.1810000793\n"
          ],
          "name": "stdout"
        }
      ]
    }
  ]
}