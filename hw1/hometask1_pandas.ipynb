{
  "nbformat": 4,
  "nbformat_minor": 0,
  "metadata": {
    "kernelspec": {
      "display_name": "Python 3",
      "language": "python",
      "name": "python3"
    },
    "language_info": {
      "codemirror_mode": {
        "name": "ipython",
        "version": 3
      },
      "file_extension": ".py",
      "mimetype": "text/x-python",
      "name": "python",
      "nbconvert_exporter": "python",
      "pygments_lexer": "ipython3",
      "version": "3.6.6"
    },
    "colab": {
      "name": "hometask1_pandas.ipynb",
      "provenance": []
    }
  },
  "cells": [
    {
      "cell_type": "markdown",
      "metadata": {
        "_uuid": "21c25e4f8bb31570029fd6b069131a5d00f84cf1",
        "id": "l3DmCTn1ZvLX"
      },
      "source": [
        "# Домашнее задание 1 (5 баллов).\n",
        "\n",
        "Все задания ниже имеют равный вес (5/16)."
      ]
    },
    {
      "cell_type": "code",
      "metadata": {
        "_uuid": "568eb2d31004b87d22e119112ae01a1e75105f1d",
        "id": "Jy8t7pqBZvLh"
      },
      "source": [
        "import pandas as pd"
      ],
      "execution_count": 129,
      "outputs": []
    },
    {
      "cell_type": "markdown",
      "metadata": {
        "id": "pkgHKnl0ZvLi"
      },
      "source": [
        "#### Описание данных\n",
        "\n",
        "В папке Data находится информация о студентах. Всего 10 групп студентов. Файлы делятся на две категории:\n",
        "    * Students_info_i - информация о студентах из группы i\n",
        "    * Students_marks_i - оценки студентов из группы i за экзамены"
      ]
    },
    {
      "cell_type": "markdown",
      "metadata": {
        "id": "brMQX51oZvLj"
      },
      "source": [
        "### Одно из важных достоинств pandas $-$ это удобные методы реляционного взаимодействия с данными, аналогичные, например, возможностям SQL для слияния и конкатенации таблиц: merge, join, concat. Наличие готовых методов позволяет не реализовывать самостоятельно поэлементную обработку данных и оперировать сразу целыми таблицами данных.\n",
        "\n",
        "Подробно об этих методах посмотрите тут: https://www.kaggle.com/residentmario/renaming-and-combining#Combining"
      ]
    },
    {
      "cell_type": "markdown",
      "metadata": {
        "id": "YvSAE2SGZvLk"
      },
      "source": [
        "#### Задание 1. Соберите всю информацию о студентах в одну таблицу df. В получившейся таблице должна быть информация и оценки всех студентов из всех групп. Напечатайте несколько строк таблицы для демонстрации результата.¶"
      ]
    },
    {
      "cell_type": "code",
      "metadata": {
        "colab": {
          "base_uri": "https://localhost:8080/",
          "height": 402
        },
        "id": "yQ_ncMMwZvLk",
        "outputId": "18640b06-b01a-4a64-d74a-6d016096c196"
      },
      "source": [
        "#your code here\r\n",
        "allInfoFiles = [\"https://raw.githubusercontent.com/TyurinIvan/iad2021/master/hw1/Data/Students_info_0.csv\",\r\n",
        "                \"https://raw.githubusercontent.com/TyurinIvan/iad2021/master/hw1/Data/Students_info_1.csv\",\r\n",
        "                \"https://raw.githubusercontent.com/TyurinIvan/iad2021/master/hw1/Data/Students_info_2.csv\",\r\n",
        "                \"https://raw.githubusercontent.com/TyurinIvan/iad2021/master/hw1/Data/Students_info_3.csv\",\r\n",
        "                \"https://raw.githubusercontent.com/TyurinIvan/iad2021/master/hw1/Data/Students_info_4.csv\",\r\n",
        "                \"https://raw.githubusercontent.com/TyurinIvan/iad2021/master/hw1/Data/Students_info_5.csv\",\r\n",
        "                \"https://raw.githubusercontent.com/TyurinIvan/iad2021/master/hw1/Data/Students_info_6.csv\",\r\n",
        "                \"https://raw.githubusercontent.com/TyurinIvan/iad2021/master/hw1/Data/Students_info_7.csv\",\r\n",
        "                \"https://raw.githubusercontent.com/TyurinIvan/iad2021/master/hw1/Data/Students_info_8.csv\",\r\n",
        "                \"https://raw.githubusercontent.com/TyurinIvan/iad2021/master/hw1/Data/Students_info_9.csv\"]\r\n",
        "\r\n",
        "allMarksFiles = [\"https://raw.githubusercontent.com/TyurinIvan/iad2021/master/hw1/Data/Students_marks_0.csv\",\r\n",
        "                \"https://raw.githubusercontent.com/TyurinIvan/iad2021/master/hw1/Data/Students_marks_1.csv\",\r\n",
        "                \"https://raw.githubusercontent.com/TyurinIvan/iad2021/master/hw1/Data/Students_marks_2.csv\",\r\n",
        "                \"https://raw.githubusercontent.com/TyurinIvan/iad2021/master/hw1/Data/Students_marks_3.csv\",\r\n",
        "                \"https://raw.githubusercontent.com/TyurinIvan/iad2021/master/hw1/Data/Students_marks_4.csv\",\r\n",
        "                \"https://raw.githubusercontent.com/TyurinIvan/iad2021/master/hw1/Data/Students_marks_5.csv\",\r\n",
        "                \"https://raw.githubusercontent.com/TyurinIvan/iad2021/master/hw1/Data/Students_marks_6.csv\",\r\n",
        "                \"https://raw.githubusercontent.com/TyurinIvan/iad2021/master/hw1/Data/Students_marks_7.csv\",\r\n",
        "                \"https://raw.githubusercontent.com/TyurinIvan/iad2021/master/hw1/Data/Students_marks_8.csv\",\r\n",
        "                \"https://raw.githubusercontent.com/TyurinIvan/iad2021/master/hw1/Data/Students_marks_9.csv\"]\r\n",
        "\r\n",
        "\r\n",
        "list_ = []\r\n",
        "for _file in range(len(allInfoFiles)):\r\n",
        "  \r\n",
        "  df1 = pd.read_csv(allInfoFiles[_file], index_col=None, header=0, sep=\",\")\r\n",
        "  df2 = pd.read_csv(allMarksFiles[_file], index_col=None, header=0, sep=\",\")\r\n",
        "  \r\n",
        "  df = pd.merge(df1, df2, on=[\"index\"])\r\n",
        "  list_.append(df)\r\n",
        "df = pd.concat(list_)\r\n",
        "\r\n",
        "\r\n",
        "df"
      ],
      "execution_count": 130,
      "outputs": [
        {
          "output_type": "execute_result",
          "data": {
            "text/html": [
              "<div>\n",
              "<style scoped>\n",
              "    .dataframe tbody tr th:only-of-type {\n",
              "        vertical-align: middle;\n",
              "    }\n",
              "\n",
              "    .dataframe tbody tr th {\n",
              "        vertical-align: top;\n",
              "    }\n",
              "\n",
              "    .dataframe thead th {\n",
              "        text-align: right;\n",
              "    }\n",
              "</style>\n",
              "<table border=\"1\" class=\"dataframe\">\n",
              "  <thead>\n",
              "    <tr style=\"text-align: right;\">\n",
              "      <th></th>\n",
              "      <th>index</th>\n",
              "      <th>gender</th>\n",
              "      <th>race/ethnicity</th>\n",
              "      <th>parental level of education</th>\n",
              "      <th>lunch</th>\n",
              "      <th>test preparation course</th>\n",
              "      <th>group</th>\n",
              "      <th>math score</th>\n",
              "      <th>reading score</th>\n",
              "      <th>writing score</th>\n",
              "    </tr>\n",
              "  </thead>\n",
              "  <tbody>\n",
              "    <tr>\n",
              "      <th>0</th>\n",
              "      <td>0</td>\n",
              "      <td>female</td>\n",
              "      <td>group B</td>\n",
              "      <td>bachelor's degree</td>\n",
              "      <td>standard</td>\n",
              "      <td>none</td>\n",
              "      <td>group1</td>\n",
              "      <td>72</td>\n",
              "      <td>72</td>\n",
              "      <td>74</td>\n",
              "    </tr>\n",
              "    <tr>\n",
              "      <th>1</th>\n",
              "      <td>1</td>\n",
              "      <td>female</td>\n",
              "      <td>group C</td>\n",
              "      <td>some college</td>\n",
              "      <td>standard</td>\n",
              "      <td>completed</td>\n",
              "      <td>group1</td>\n",
              "      <td>69</td>\n",
              "      <td>90</td>\n",
              "      <td>88</td>\n",
              "    </tr>\n",
              "    <tr>\n",
              "      <th>2</th>\n",
              "      <td>2</td>\n",
              "      <td>female</td>\n",
              "      <td>group B</td>\n",
              "      <td>master's degree</td>\n",
              "      <td>standard</td>\n",
              "      <td>none</td>\n",
              "      <td>group1</td>\n",
              "      <td>90</td>\n",
              "      <td>95</td>\n",
              "      <td>93</td>\n",
              "    </tr>\n",
              "    <tr>\n",
              "      <th>3</th>\n",
              "      <td>3</td>\n",
              "      <td>male</td>\n",
              "      <td>group A</td>\n",
              "      <td>associate's degree</td>\n",
              "      <td>free/reduced</td>\n",
              "      <td>none</td>\n",
              "      <td>group1</td>\n",
              "      <td>47</td>\n",
              "      <td>57</td>\n",
              "      <td>44</td>\n",
              "    </tr>\n",
              "    <tr>\n",
              "      <th>4</th>\n",
              "      <td>4</td>\n",
              "      <td>male</td>\n",
              "      <td>group C</td>\n",
              "      <td>some college</td>\n",
              "      <td>standard</td>\n",
              "      <td>none</td>\n",
              "      <td>group1</td>\n",
              "      <td>76</td>\n",
              "      <td>78</td>\n",
              "      <td>75</td>\n",
              "    </tr>\n",
              "    <tr>\n",
              "      <th>...</th>\n",
              "      <td>...</td>\n",
              "      <td>...</td>\n",
              "      <td>...</td>\n",
              "      <td>...</td>\n",
              "      <td>...</td>\n",
              "      <td>...</td>\n",
              "      <td>...</td>\n",
              "      <td>...</td>\n",
              "      <td>...</td>\n",
              "      <td>...</td>\n",
              "    </tr>\n",
              "    <tr>\n",
              "      <th>95</th>\n",
              "      <td>995</td>\n",
              "      <td>female</td>\n",
              "      <td>group E</td>\n",
              "      <td>master's degree</td>\n",
              "      <td>standard</td>\n",
              "      <td>completed</td>\n",
              "      <td>group10</td>\n",
              "      <td>88</td>\n",
              "      <td>99</td>\n",
              "      <td>95</td>\n",
              "    </tr>\n",
              "    <tr>\n",
              "      <th>96</th>\n",
              "      <td>996</td>\n",
              "      <td>male</td>\n",
              "      <td>group C</td>\n",
              "      <td>high school</td>\n",
              "      <td>free/reduced</td>\n",
              "      <td>none</td>\n",
              "      <td>group10</td>\n",
              "      <td>62</td>\n",
              "      <td>55</td>\n",
              "      <td>55</td>\n",
              "    </tr>\n",
              "    <tr>\n",
              "      <th>97</th>\n",
              "      <td>997</td>\n",
              "      <td>female</td>\n",
              "      <td>group C</td>\n",
              "      <td>high school</td>\n",
              "      <td>free/reduced</td>\n",
              "      <td>completed</td>\n",
              "      <td>group10</td>\n",
              "      <td>59</td>\n",
              "      <td>71</td>\n",
              "      <td>65</td>\n",
              "    </tr>\n",
              "    <tr>\n",
              "      <th>98</th>\n",
              "      <td>998</td>\n",
              "      <td>female</td>\n",
              "      <td>group D</td>\n",
              "      <td>some college</td>\n",
              "      <td>standard</td>\n",
              "      <td>completed</td>\n",
              "      <td>group10</td>\n",
              "      <td>68</td>\n",
              "      <td>78</td>\n",
              "      <td>77</td>\n",
              "    </tr>\n",
              "    <tr>\n",
              "      <th>99</th>\n",
              "      <td>999</td>\n",
              "      <td>female</td>\n",
              "      <td>group D</td>\n",
              "      <td>some college</td>\n",
              "      <td>free/reduced</td>\n",
              "      <td>none</td>\n",
              "      <td>group10</td>\n",
              "      <td>77</td>\n",
              "      <td>86</td>\n",
              "      <td>86</td>\n",
              "    </tr>\n",
              "  </tbody>\n",
              "</table>\n",
              "<p>1000 rows × 10 columns</p>\n",
              "</div>"
            ],
            "text/plain": [
              "    index  gender race/ethnicity  ... math score reading score writing score\n",
              "0       0  female        group B  ...         72            72            74\n",
              "1       1  female        group C  ...         69            90            88\n",
              "2       2  female        group B  ...         90            95            93\n",
              "3       3    male        group A  ...         47            57            44\n",
              "4       4    male        group C  ...         76            78            75\n",
              "..    ...     ...            ...  ...        ...           ...           ...\n",
              "95    995  female        group E  ...         88            99            95\n",
              "96    996    male        group C  ...         62            55            55\n",
              "97    997  female        group C  ...         59            71            65\n",
              "98    998  female        group D  ...         68            78            77\n",
              "99    999  female        group D  ...         77            86            86\n",
              "\n",
              "[1000 rows x 10 columns]"
            ]
          },
          "metadata": {
            "tags": []
          },
          "execution_count": 130
        }
      ]
    },
    {
      "cell_type": "markdown",
      "metadata": {
        "_uuid": "8524af4cbd2f7b7810e8a3095a74c9fe1df7eafa",
        "id": "4cxjczfyZvLl"
      },
      "source": [
        "#### Задание 2. Удалите столбец index у полученной таблицы. Напечатайте первые 10 строк таблицы."
      ]
    },
    {
      "cell_type": "code",
      "metadata": {
        "_uuid": "fe62eee87b9b94ab923f57b55eaf0554612aa9e9",
        "colab": {
          "base_uri": "https://localhost:8080/",
          "height": 343
        },
        "id": "2AWpZigrZvLl",
        "outputId": "274c51ef-6368-4232-db85-b252aa0d4a15"
      },
      "source": [
        "#your code here\r\n",
        "df = df.drop('index', axis=1)\r\n",
        "\r\n",
        "df.head(10)"
      ],
      "execution_count": 131,
      "outputs": [
        {
          "output_type": "execute_result",
          "data": {
            "text/html": [
              "<div>\n",
              "<style scoped>\n",
              "    .dataframe tbody tr th:only-of-type {\n",
              "        vertical-align: middle;\n",
              "    }\n",
              "\n",
              "    .dataframe tbody tr th {\n",
              "        vertical-align: top;\n",
              "    }\n",
              "\n",
              "    .dataframe thead th {\n",
              "        text-align: right;\n",
              "    }\n",
              "</style>\n",
              "<table border=\"1\" class=\"dataframe\">\n",
              "  <thead>\n",
              "    <tr style=\"text-align: right;\">\n",
              "      <th></th>\n",
              "      <th>gender</th>\n",
              "      <th>race/ethnicity</th>\n",
              "      <th>parental level of education</th>\n",
              "      <th>lunch</th>\n",
              "      <th>test preparation course</th>\n",
              "      <th>group</th>\n",
              "      <th>math score</th>\n",
              "      <th>reading score</th>\n",
              "      <th>writing score</th>\n",
              "    </tr>\n",
              "  </thead>\n",
              "  <tbody>\n",
              "    <tr>\n",
              "      <th>0</th>\n",
              "      <td>female</td>\n",
              "      <td>group B</td>\n",
              "      <td>bachelor's degree</td>\n",
              "      <td>standard</td>\n",
              "      <td>none</td>\n",
              "      <td>group1</td>\n",
              "      <td>72</td>\n",
              "      <td>72</td>\n",
              "      <td>74</td>\n",
              "    </tr>\n",
              "    <tr>\n",
              "      <th>1</th>\n",
              "      <td>female</td>\n",
              "      <td>group C</td>\n",
              "      <td>some college</td>\n",
              "      <td>standard</td>\n",
              "      <td>completed</td>\n",
              "      <td>group1</td>\n",
              "      <td>69</td>\n",
              "      <td>90</td>\n",
              "      <td>88</td>\n",
              "    </tr>\n",
              "    <tr>\n",
              "      <th>2</th>\n",
              "      <td>female</td>\n",
              "      <td>group B</td>\n",
              "      <td>master's degree</td>\n",
              "      <td>standard</td>\n",
              "      <td>none</td>\n",
              "      <td>group1</td>\n",
              "      <td>90</td>\n",
              "      <td>95</td>\n",
              "      <td>93</td>\n",
              "    </tr>\n",
              "    <tr>\n",
              "      <th>3</th>\n",
              "      <td>male</td>\n",
              "      <td>group A</td>\n",
              "      <td>associate's degree</td>\n",
              "      <td>free/reduced</td>\n",
              "      <td>none</td>\n",
              "      <td>group1</td>\n",
              "      <td>47</td>\n",
              "      <td>57</td>\n",
              "      <td>44</td>\n",
              "    </tr>\n",
              "    <tr>\n",
              "      <th>4</th>\n",
              "      <td>male</td>\n",
              "      <td>group C</td>\n",
              "      <td>some college</td>\n",
              "      <td>standard</td>\n",
              "      <td>none</td>\n",
              "      <td>group1</td>\n",
              "      <td>76</td>\n",
              "      <td>78</td>\n",
              "      <td>75</td>\n",
              "    </tr>\n",
              "    <tr>\n",
              "      <th>5</th>\n",
              "      <td>female</td>\n",
              "      <td>group B</td>\n",
              "      <td>associate's degree</td>\n",
              "      <td>standard</td>\n",
              "      <td>none</td>\n",
              "      <td>group1</td>\n",
              "      <td>71</td>\n",
              "      <td>83</td>\n",
              "      <td>78</td>\n",
              "    </tr>\n",
              "    <tr>\n",
              "      <th>6</th>\n",
              "      <td>female</td>\n",
              "      <td>group B</td>\n",
              "      <td>some college</td>\n",
              "      <td>standard</td>\n",
              "      <td>completed</td>\n",
              "      <td>group1</td>\n",
              "      <td>88</td>\n",
              "      <td>95</td>\n",
              "      <td>92</td>\n",
              "    </tr>\n",
              "    <tr>\n",
              "      <th>7</th>\n",
              "      <td>male</td>\n",
              "      <td>group B</td>\n",
              "      <td>some college</td>\n",
              "      <td>free/reduced</td>\n",
              "      <td>none</td>\n",
              "      <td>group1</td>\n",
              "      <td>40</td>\n",
              "      <td>43</td>\n",
              "      <td>39</td>\n",
              "    </tr>\n",
              "    <tr>\n",
              "      <th>8</th>\n",
              "      <td>male</td>\n",
              "      <td>group D</td>\n",
              "      <td>high school</td>\n",
              "      <td>free/reduced</td>\n",
              "      <td>completed</td>\n",
              "      <td>group1</td>\n",
              "      <td>64</td>\n",
              "      <td>64</td>\n",
              "      <td>67</td>\n",
              "    </tr>\n",
              "    <tr>\n",
              "      <th>9</th>\n",
              "      <td>female</td>\n",
              "      <td>group B</td>\n",
              "      <td>high school</td>\n",
              "      <td>free/reduced</td>\n",
              "      <td>none</td>\n",
              "      <td>group1</td>\n",
              "      <td>38</td>\n",
              "      <td>60</td>\n",
              "      <td>50</td>\n",
              "    </tr>\n",
              "  </tbody>\n",
              "</table>\n",
              "</div>"
            ],
            "text/plain": [
              "   gender race/ethnicity  ... reading score writing score\n",
              "0  female        group B  ...            72            74\n",
              "1  female        group C  ...            90            88\n",
              "2  female        group B  ...            95            93\n",
              "3    male        group A  ...            57            44\n",
              "4    male        group C  ...            78            75\n",
              "5  female        group B  ...            83            78\n",
              "6  female        group B  ...            95            92\n",
              "7    male        group B  ...            43            39\n",
              "8    male        group D  ...            64            67\n",
              "9  female        group B  ...            60            50\n",
              "\n",
              "[10 rows x 9 columns]"
            ]
          },
          "metadata": {
            "tags": []
          },
          "execution_count": 131
        }
      ]
    },
    {
      "cell_type": "markdown",
      "metadata": {
        "_uuid": "5fcd622942b7ecfc318934c6a245d3bb3bf01e84",
        "id": "4mS66_LPZvLm"
      },
      "source": [
        "#### Задание 3. Выведите на экран размеры полученной таблицы"
      ]
    },
    {
      "cell_type": "code",
      "metadata": {
        "_uuid": "16281cd7b4e941ebed8ca2e1b42f62f55d838684",
        "colab": {
          "base_uri": "https://localhost:8080/"
        },
        "id": "noIlvzqQZvLm",
        "outputId": "e2e1dbf0-37b1-4457-d5c9-aa26504ccf97"
      },
      "source": [
        "# your code here\r\n",
        "print('Количество яцеек: ', df.size)\r\n",
        "print('Количество строк: ', df.shape[0])\r\n",
        "print('Количество столбцов: ', df.shape[1])"
      ],
      "execution_count": 132,
      "outputs": [
        {
          "output_type": "stream",
          "text": [
            "Количество яцеек:  9000\n",
            "Количество строк:  1000\n",
            "Количество столбцов:  9\n"
          ],
          "name": "stdout"
        }
      ]
    },
    {
      "cell_type": "markdown",
      "metadata": {
        "_uuid": "fe8e3d58d29ca25dbbcf001392377643e6ff9a36",
        "id": "ivv6E38gZvLn"
      },
      "source": [
        "#### Задание 4. Выведите на экран статистические характеристики числовых столбцов таблицы (минимум, максимум, среднее значение, стандартное отклонение)"
      ]
    },
    {
      "cell_type": "code",
      "metadata": {
        "_uuid": "e3d4bb80d2c4251fe517c24fcf08c5ff2d67b8aa",
        "colab": {
          "base_uri": "https://localhost:8080/",
          "height": 284
        },
        "id": "zusIH8qvZvLn",
        "outputId": "d5d43e22-975a-4002-ee8e-c47b22d3d8cf"
      },
      "source": [
        "# your code here\r\n",
        "df.describe()"
      ],
      "execution_count": 133,
      "outputs": [
        {
          "output_type": "execute_result",
          "data": {
            "text/html": [
              "<div>\n",
              "<style scoped>\n",
              "    .dataframe tbody tr th:only-of-type {\n",
              "        vertical-align: middle;\n",
              "    }\n",
              "\n",
              "    .dataframe tbody tr th {\n",
              "        vertical-align: top;\n",
              "    }\n",
              "\n",
              "    .dataframe thead th {\n",
              "        text-align: right;\n",
              "    }\n",
              "</style>\n",
              "<table border=\"1\" class=\"dataframe\">\n",
              "  <thead>\n",
              "    <tr style=\"text-align: right;\">\n",
              "      <th></th>\n",
              "      <th>math score</th>\n",
              "      <th>reading score</th>\n",
              "      <th>writing score</th>\n",
              "    </tr>\n",
              "  </thead>\n",
              "  <tbody>\n",
              "    <tr>\n",
              "      <th>count</th>\n",
              "      <td>1000.00000</td>\n",
              "      <td>1000.000000</td>\n",
              "      <td>1000.000000</td>\n",
              "    </tr>\n",
              "    <tr>\n",
              "      <th>mean</th>\n",
              "      <td>66.08900</td>\n",
              "      <td>69.169000</td>\n",
              "      <td>68.054000</td>\n",
              "    </tr>\n",
              "    <tr>\n",
              "      <th>std</th>\n",
              "      <td>15.16308</td>\n",
              "      <td>14.600192</td>\n",
              "      <td>15.195657</td>\n",
              "    </tr>\n",
              "    <tr>\n",
              "      <th>min</th>\n",
              "      <td>0.00000</td>\n",
              "      <td>17.000000</td>\n",
              "      <td>10.000000</td>\n",
              "    </tr>\n",
              "    <tr>\n",
              "      <th>25%</th>\n",
              "      <td>57.00000</td>\n",
              "      <td>59.000000</td>\n",
              "      <td>57.750000</td>\n",
              "    </tr>\n",
              "    <tr>\n",
              "      <th>50%</th>\n",
              "      <td>66.00000</td>\n",
              "      <td>70.000000</td>\n",
              "      <td>69.000000</td>\n",
              "    </tr>\n",
              "    <tr>\n",
              "      <th>75%</th>\n",
              "      <td>77.00000</td>\n",
              "      <td>79.000000</td>\n",
              "      <td>79.000000</td>\n",
              "    </tr>\n",
              "    <tr>\n",
              "      <th>max</th>\n",
              "      <td>100.00000</td>\n",
              "      <td>100.000000</td>\n",
              "      <td>100.000000</td>\n",
              "    </tr>\n",
              "  </tbody>\n",
              "</table>\n",
              "</div>"
            ],
            "text/plain": [
              "       math score  reading score  writing score\n",
              "count  1000.00000    1000.000000    1000.000000\n",
              "mean     66.08900      69.169000      68.054000\n",
              "std      15.16308      14.600192      15.195657\n",
              "min       0.00000      17.000000      10.000000\n",
              "25%      57.00000      59.000000      57.750000\n",
              "50%      66.00000      70.000000      69.000000\n",
              "75%      77.00000      79.000000      79.000000\n",
              "max     100.00000     100.000000     100.000000"
            ]
          },
          "metadata": {
            "tags": []
          },
          "execution_count": 133
        }
      ]
    },
    {
      "cell_type": "markdown",
      "metadata": {
        "_uuid": "b26b7de83485ecb3b8a0a7865a596e24527c7b2f",
        "id": "_Uhhif9_ZvLo"
      },
      "source": [
        "#### Задание 5. Проверьте, есть ли в таблице пропущенные значения"
      ]
    },
    {
      "cell_type": "markdown",
      "metadata": {
        "id": "MpmOKGypSkJG"
      },
      "source": [
        "Вот тут не понятно, что подразумевается под пропущенным значением: NaN, Null или ''"
      ]
    },
    {
      "cell_type": "code",
      "metadata": {
        "_uuid": "4eac3f8f83d07c6e58ad1576fe0e773f37034a2f",
        "colab": {
          "base_uri": "https://localhost:8080/"
        },
        "id": "Ey8XT-LgZvLo",
        "outputId": "ad7b01b9-13e7-4a1c-ca52-92ce06684756"
      },
      "source": [
        "# your code here\r\n",
        "import numpy as np\r\n",
        "[df.iloc[i,j] for i,j in zip(*np.where(pd.isnull(df)))]\r\n",
        "#print(np.where(pd.isnull(df)))"
      ],
      "execution_count": 134,
      "outputs": [
        {
          "output_type": "execute_result",
          "data": {
            "text/plain": [
              "[]"
            ]
          },
          "metadata": {
            "tags": []
          },
          "execution_count": 134
        }
      ]
    },
    {
      "cell_type": "markdown",
      "metadata": {
        "id": "krbxJv-ZZvLo"
      },
      "source": [
        "#### Задание 6. Выведите на экран средние баллы студентов по каждому предмету (math, reading, writing)"
      ]
    },
    {
      "cell_type": "code",
      "metadata": {
        "colab": {
          "base_uri": "https://localhost:8080/"
        },
        "id": "679BZRiRZvLp",
        "outputId": "88ef6ee9-2f6b-4b73-a6ab-5120681106fa"
      },
      "source": [
        "# your code here\r\n",
        "print('Среднее math:    ', df['math score'].mean())\r\n",
        "print('Среднее reading: ', df['reading score'].mean())\r\n",
        "print('Среднее writing: ', df['writing score'].mean())\r\n"
      ],
      "execution_count": 135,
      "outputs": [
        {
          "output_type": "stream",
          "text": [
            "Среднее math:     66.089\n",
            "Среднее reading:  69.169\n",
            "Среднее writing:  68.054\n"
          ],
          "name": "stdout"
        }
      ]
    },
    {
      "cell_type": "markdown",
      "metadata": {
        "id": "dY1JYVEtZvLp"
      },
      "source": [
        "**Задание 7. Как зависят оценки от того, проходил ли студент курс для подготовки к сдаче экзамена (test preparation course)? Выведите на экран для каждого предмета в отдельности средний балл студентов, проходивших курс для подготовки к экзамену и не проходивших курс.**"
      ]
    },
    {
      "cell_type": "code",
      "metadata": {
        "colab": {
          "base_uri": "https://localhost:8080/",
          "height": 190
        },
        "id": "_Z-qhKwRZvLq",
        "outputId": "a1e568a8-e096-44ae-b76d-9a10443b0060"
      },
      "source": [
        "# your code here\r\n",
        "df.groupby(\"test preparation course\")['math score', 'reading score', 'writing score'].apply(lambda x: x.mean())"
      ],
      "execution_count": 136,
      "outputs": [
        {
          "output_type": "stream",
          "text": [
            "/usr/local/lib/python3.6/dist-packages/ipykernel_launcher.py:2: FutureWarning: Indexing with multiple keys (implicitly converted to a tuple of keys) will be deprecated, use a list instead.\n",
            "  \n"
          ],
          "name": "stderr"
        },
        {
          "output_type": "execute_result",
          "data": {
            "text/html": [
              "<div>\n",
              "<style scoped>\n",
              "    .dataframe tbody tr th:only-of-type {\n",
              "        vertical-align: middle;\n",
              "    }\n",
              "\n",
              "    .dataframe tbody tr th {\n",
              "        vertical-align: top;\n",
              "    }\n",
              "\n",
              "    .dataframe thead th {\n",
              "        text-align: right;\n",
              "    }\n",
              "</style>\n",
              "<table border=\"1\" class=\"dataframe\">\n",
              "  <thead>\n",
              "    <tr style=\"text-align: right;\">\n",
              "      <th></th>\n",
              "      <th>math score</th>\n",
              "      <th>reading score</th>\n",
              "      <th>writing score</th>\n",
              "    </tr>\n",
              "    <tr>\n",
              "      <th>test preparation course</th>\n",
              "      <th></th>\n",
              "      <th></th>\n",
              "      <th></th>\n",
              "    </tr>\n",
              "  </thead>\n",
              "  <tbody>\n",
              "    <tr>\n",
              "      <th>completed</th>\n",
              "      <td>69.695531</td>\n",
              "      <td>73.893855</td>\n",
              "      <td>74.418994</td>\n",
              "    </tr>\n",
              "    <tr>\n",
              "      <th>none</th>\n",
              "      <td>64.077882</td>\n",
              "      <td>66.534268</td>\n",
              "      <td>64.504673</td>\n",
              "    </tr>\n",
              "  </tbody>\n",
              "</table>\n",
              "</div>"
            ],
            "text/plain": [
              "                         math score  reading score  writing score\n",
              "test preparation course                                          \n",
              "completed                 69.695531      73.893855      74.418994\n",
              "none                      64.077882      66.534268      64.504673"
            ]
          },
          "metadata": {
            "tags": []
          },
          "execution_count": 136
        }
      ]
    },
    {
      "cell_type": "markdown",
      "metadata": {
        "id": "ORyXS_PRZvLq"
      },
      "source": [
        "**Задание 8. Выведите на экран все различные значения из столбца lunch.**"
      ]
    },
    {
      "cell_type": "code",
      "metadata": {
        "colab": {
          "base_uri": "https://localhost:8080/"
        },
        "id": "AUqimKxMZvLq",
        "outputId": "c149dcdb-9c53-4f82-b2c8-c770be66f00c"
      },
      "source": [
        "# your code here\r\n",
        "for name in df['lunch'].unique():\r\n",
        "  print(name)"
      ],
      "execution_count": 137,
      "outputs": [
        {
          "output_type": "stream",
          "text": [
            "standard\n",
            "free/reduced\n"
          ],
          "name": "stdout"
        }
      ]
    },
    {
      "cell_type": "markdown",
      "metadata": {
        "id": "LSSF4zVOZvLr"
      },
      "source": [
        "**Задание 9. Переименуйте колонку \"parental level of education\" в \"education\", а \"test preparation course\" в \"test preparation\" с помощью метода pandas rename**\n",
        "https://pandas.pydata.org/pandas-docs/stable/reference/api/pandas.DataFrame.rename.html"
      ]
    },
    {
      "cell_type": "code",
      "metadata": {
        "colab": {
          "base_uri": "https://localhost:8080/",
          "height": 402
        },
        "id": "VCJoN79DZvLr",
        "outputId": "cf104490-3b1a-4516-d9cf-267100e1f2ce"
      },
      "source": [
        "# your code here\r\n",
        "df = df.rename(columns={\"parental level of education\": \"education\", \"test preparation course\": \"test preparation\"})\r\n",
        "\r\n",
        "df"
      ],
      "execution_count": 138,
      "outputs": [
        {
          "output_type": "execute_result",
          "data": {
            "text/html": [
              "<div>\n",
              "<style scoped>\n",
              "    .dataframe tbody tr th:only-of-type {\n",
              "        vertical-align: middle;\n",
              "    }\n",
              "\n",
              "    .dataframe tbody tr th {\n",
              "        vertical-align: top;\n",
              "    }\n",
              "\n",
              "    .dataframe thead th {\n",
              "        text-align: right;\n",
              "    }\n",
              "</style>\n",
              "<table border=\"1\" class=\"dataframe\">\n",
              "  <thead>\n",
              "    <tr style=\"text-align: right;\">\n",
              "      <th></th>\n",
              "      <th>gender</th>\n",
              "      <th>race/ethnicity</th>\n",
              "      <th>education</th>\n",
              "      <th>lunch</th>\n",
              "      <th>test preparation</th>\n",
              "      <th>group</th>\n",
              "      <th>math score</th>\n",
              "      <th>reading score</th>\n",
              "      <th>writing score</th>\n",
              "    </tr>\n",
              "  </thead>\n",
              "  <tbody>\n",
              "    <tr>\n",
              "      <th>0</th>\n",
              "      <td>female</td>\n",
              "      <td>group B</td>\n",
              "      <td>bachelor's degree</td>\n",
              "      <td>standard</td>\n",
              "      <td>none</td>\n",
              "      <td>group1</td>\n",
              "      <td>72</td>\n",
              "      <td>72</td>\n",
              "      <td>74</td>\n",
              "    </tr>\n",
              "    <tr>\n",
              "      <th>1</th>\n",
              "      <td>female</td>\n",
              "      <td>group C</td>\n",
              "      <td>some college</td>\n",
              "      <td>standard</td>\n",
              "      <td>completed</td>\n",
              "      <td>group1</td>\n",
              "      <td>69</td>\n",
              "      <td>90</td>\n",
              "      <td>88</td>\n",
              "    </tr>\n",
              "    <tr>\n",
              "      <th>2</th>\n",
              "      <td>female</td>\n",
              "      <td>group B</td>\n",
              "      <td>master's degree</td>\n",
              "      <td>standard</td>\n",
              "      <td>none</td>\n",
              "      <td>group1</td>\n",
              "      <td>90</td>\n",
              "      <td>95</td>\n",
              "      <td>93</td>\n",
              "    </tr>\n",
              "    <tr>\n",
              "      <th>3</th>\n",
              "      <td>male</td>\n",
              "      <td>group A</td>\n",
              "      <td>associate's degree</td>\n",
              "      <td>free/reduced</td>\n",
              "      <td>none</td>\n",
              "      <td>group1</td>\n",
              "      <td>47</td>\n",
              "      <td>57</td>\n",
              "      <td>44</td>\n",
              "    </tr>\n",
              "    <tr>\n",
              "      <th>4</th>\n",
              "      <td>male</td>\n",
              "      <td>group C</td>\n",
              "      <td>some college</td>\n",
              "      <td>standard</td>\n",
              "      <td>none</td>\n",
              "      <td>group1</td>\n",
              "      <td>76</td>\n",
              "      <td>78</td>\n",
              "      <td>75</td>\n",
              "    </tr>\n",
              "    <tr>\n",
              "      <th>...</th>\n",
              "      <td>...</td>\n",
              "      <td>...</td>\n",
              "      <td>...</td>\n",
              "      <td>...</td>\n",
              "      <td>...</td>\n",
              "      <td>...</td>\n",
              "      <td>...</td>\n",
              "      <td>...</td>\n",
              "      <td>...</td>\n",
              "    </tr>\n",
              "    <tr>\n",
              "      <th>95</th>\n",
              "      <td>female</td>\n",
              "      <td>group E</td>\n",
              "      <td>master's degree</td>\n",
              "      <td>standard</td>\n",
              "      <td>completed</td>\n",
              "      <td>group10</td>\n",
              "      <td>88</td>\n",
              "      <td>99</td>\n",
              "      <td>95</td>\n",
              "    </tr>\n",
              "    <tr>\n",
              "      <th>96</th>\n",
              "      <td>male</td>\n",
              "      <td>group C</td>\n",
              "      <td>high school</td>\n",
              "      <td>free/reduced</td>\n",
              "      <td>none</td>\n",
              "      <td>group10</td>\n",
              "      <td>62</td>\n",
              "      <td>55</td>\n",
              "      <td>55</td>\n",
              "    </tr>\n",
              "    <tr>\n",
              "      <th>97</th>\n",
              "      <td>female</td>\n",
              "      <td>group C</td>\n",
              "      <td>high school</td>\n",
              "      <td>free/reduced</td>\n",
              "      <td>completed</td>\n",
              "      <td>group10</td>\n",
              "      <td>59</td>\n",
              "      <td>71</td>\n",
              "      <td>65</td>\n",
              "    </tr>\n",
              "    <tr>\n",
              "      <th>98</th>\n",
              "      <td>female</td>\n",
              "      <td>group D</td>\n",
              "      <td>some college</td>\n",
              "      <td>standard</td>\n",
              "      <td>completed</td>\n",
              "      <td>group10</td>\n",
              "      <td>68</td>\n",
              "      <td>78</td>\n",
              "      <td>77</td>\n",
              "    </tr>\n",
              "    <tr>\n",
              "      <th>99</th>\n",
              "      <td>female</td>\n",
              "      <td>group D</td>\n",
              "      <td>some college</td>\n",
              "      <td>free/reduced</td>\n",
              "      <td>none</td>\n",
              "      <td>group10</td>\n",
              "      <td>77</td>\n",
              "      <td>86</td>\n",
              "      <td>86</td>\n",
              "    </tr>\n",
              "  </tbody>\n",
              "</table>\n",
              "<p>1000 rows × 9 columns</p>\n",
              "</div>"
            ],
            "text/plain": [
              "    gender race/ethnicity  ... reading score writing score\n",
              "0   female        group B  ...            72            74\n",
              "1   female        group C  ...            90            88\n",
              "2   female        group B  ...            95            93\n",
              "3     male        group A  ...            57            44\n",
              "4     male        group C  ...            78            75\n",
              "..     ...            ...  ...           ...           ...\n",
              "95  female        group E  ...            99            95\n",
              "96    male        group C  ...            55            55\n",
              "97  female        group C  ...            71            65\n",
              "98  female        group D  ...            78            77\n",
              "99  female        group D  ...            86            86\n",
              "\n",
              "[1000 rows x 9 columns]"
            ]
          },
          "metadata": {
            "tags": []
          },
          "execution_count": 138
        }
      ]
    },
    {
      "cell_type": "markdown",
      "metadata": {
        "id": "RTCEewAsZvLr"
      },
      "source": [
        "**Зафиксируем минимальный балл для сдачи экзамена**"
      ]
    },
    {
      "cell_type": "code",
      "metadata": {
        "id": "4_0dfppmZvLs"
      },
      "source": [
        "passmark = 50"
      ],
      "execution_count": 139,
      "outputs": []
    },
    {
      "cell_type": "markdown",
      "metadata": {
        "id": "-4xZm2TmZvLs"
      },
      "source": [
        "**Задание 10. Ответьте на вопросы:**\n",
        "    * Какая доля студентов сдала экзамен по математике (passmark >= 50)?\n",
        "    * Какая доля студентов, проходивших курс подготовки к экзамену, сдала экзамен по математике?\n",
        "    * Какая доля женщин, не проходивших курс подготовки к экзамену, не сдала экзамен по математике? "
      ]
    },
    {
      "cell_type": "code",
      "metadata": {
        "colab": {
          "base_uri": "https://localhost:8080/"
        },
        "id": "1afTCB6VZvLt",
        "outputId": "c458898f-8ee9-488d-8363-16dc8ba23b0b"
      },
      "source": [
        "# your code here\r\n",
        "\r\n",
        "counterFunc = df.apply(\r\n",
        "    lambda x: True if x['math score'] >= 50 else False , axis=1)\r\n",
        "\r\n",
        "numOfRows = len(counterFunc[counterFunc == True].index) \r\n",
        "print('Какая доля студентов сдала экзамен по математике (passmark >= 50)?                            ',\r\n",
        "      numOfRows / df.shape[0])\r\n",
        "\r\n",
        "\r\n",
        "counterFunc = df.apply(\r\n",
        "    lambda x: True if (x['math score'] >= 50 and \r\n",
        "                       x['test preparation'] == 'completed') else False , axis=1)\r\n",
        "counterFunc2 = df.apply(\r\n",
        "    lambda x: True if x['test preparation'] == 'completed' else False , axis=1)\r\n",
        "\r\n",
        "\r\n",
        "numOfRows = len(counterFunc[counterFunc == True].index)\r\n",
        "numOfRows2 = len(counterFunc2[counterFunc2 == True].index)\r\n",
        "\r\n",
        "print('Какая доля студентов, проходивших курс подготовки к экзамену, сдала экзамен по математике?    ',\r\n",
        "      numOfRows / numOfRows2)\r\n",
        "\r\n",
        "\r\n",
        "counterFunc = df.apply(\r\n",
        "    lambda x: True if (x['math score'] <= 50 and \r\n",
        "                       x['test preparation'] != 'completed' and \r\n",
        "                       x['gender'] == 'female') else False , axis=1)\r\n",
        "counterFunc2 = df.apply(\r\n",
        "    lambda x: True if (x['test preparation'] != 'completed' and \r\n",
        "                      x['gender'] == 'female') else False , axis=1)\r\n",
        "\r\n",
        "\r\n",
        "numOfRows = len(counterFunc[counterFunc == True].index)\r\n",
        "numOfRows2 = len(counterFunc2[counterFunc2 == True].index)\r\n",
        "\r\n",
        "print('Какая доля женщин, не проходивших курс подготовки к экзамену, не сдала экзамен по математике? ',\r\n",
        "      numOfRows / numOfRows2)"
      ],
      "execution_count": 140,
      "outputs": [
        {
          "output_type": "stream",
          "text": [
            "Какая доля студентов сдала экзамен по математике (passmark >= 50)?                             0.865\n",
            "Какая доля студентов, проходивших курс подготовки к экзамену, сдала экзамен по математике?     0.9217877094972067\n",
            "Какая доля женщин, не проходивших курс подготовки к экзамену, не сдала экзамен по математике?  0.23353293413173654\n"
          ],
          "name": "stdout"
        }
      ]
    },
    {
      "cell_type": "markdown",
      "metadata": {
        "id": "9AKnkYyEZvLt"
      },
      "source": [
        "**Задание 11. С помощью groupby выполните задания ниже. Также выведите время выполнения каждого из заданий.**\n",
        "    * Для каждой этнической группы выведите средний балл за экзамен по чтению\n",
        "    * Для каждого уровня образования выведите минимальный балл за экзамен по письму"
      ]
    },
    {
      "cell_type": "code",
      "metadata": {
        "id": "JiMHkoQH8wRn"
      },
      "source": [
        "import time\r\n",
        "\r\n",
        "def time_of_function(function):\r\n",
        "    def wrapped(*args):\r\n",
        "        start_time = time.clock()\r\n",
        "        res = function(*args)\r\n",
        "        print(time.clock() - start_time)\r\n",
        "        return res\r\n",
        "    return wrapped"
      ],
      "execution_count": null,
      "outputs": []
    },
    {
      "cell_type": "code",
      "metadata": {
        "id": "cvmseFaz2Wdx",
        "outputId": "dd3fc8b2-6027-4a6e-9fc6-a03d8f3e36a0",
        "colab": {
          "base_uri": "https://localhost:8080/"
        }
      },
      "source": [
        "# your code here\r\n",
        "@time_of_function\r\n",
        "def testFunction1():\r\n",
        "  return df.groupby(\"race/ethnicity\")['reading score'].mean()\r\n",
        "\r\n",
        "print('Execution time: ', end='')\r\n",
        "print(testFunction1())"
      ],
      "execution_count": 162,
      "outputs": [
        {
          "output_type": "stream",
          "text": [
            "Execution time: 0.002296000000001186\n",
            "race/ethnicity\n",
            "group A    64.674157\n",
            "group B    67.352632\n",
            "group C    69.103448\n",
            "group D    70.030534\n",
            "group E    73.028571\n",
            "Name: reading score, dtype: float64\n"
          ],
          "name": "stdout"
        }
      ]
    },
    {
      "cell_type": "code",
      "metadata": {
        "id": "-C0Psu3GkHuJ",
        "outputId": "868afa28-26aa-4809-c98f-a74e2d8bc4f9",
        "colab": {
          "base_uri": "https://localhost:8080/"
        }
      },
      "source": [
        "# your code here\r\n",
        "@time_of_function\r\n",
        "def testFunction2():\r\n",
        "  return df.groupby(\"education\")['writing score'].min()\r\n",
        "\r\n",
        "\r\n",
        "print('Execution time: ', end='')\r\n",
        "print(testFunction2())"
      ],
      "execution_count": 164,
      "outputs": [
        {
          "output_type": "stream",
          "text": [
            "Execution time: 0.002641999999994482\n",
            "education\n",
            "associate's degree    35\n",
            "bachelor's degree     38\n",
            "high school           15\n",
            "master's degree       46\n",
            "some college          19\n",
            "some high school      10\n",
            "Name: writing score, dtype: int64\n"
          ],
          "name": "stdout"
        }
      ]
    },
    {
      "cell_type": "markdown",
      "metadata": {
        "id": "zXdwJ6lAZvLu"
      },
      "source": [
        "**Задание 12. Выполните задание 11 с помощью циклов. Сравните время выполнения.**"
      ]
    },
    {
      "cell_type": "code",
      "metadata": {
        "id": "gVf9vRvKZvLu",
        "outputId": "6f3ba51e-7f1c-4e5a-8156-31916eef70d9",
        "colab": {
          "base_uri": "https://localhost:8080/"
        }
      },
      "source": [
        "# your code here\r\n",
        "\r\n",
        "@time_of_function\r\n",
        "def myGroupByAvg(strA, strB):\r\n",
        "  myList = {}\r\n",
        "  groupedRes = {}\r\n",
        "  groupedCnt = {}\r\n",
        "\r\n",
        "  for index, row in df.iterrows():\r\n",
        "    if row[strA] in groupedRes:\r\n",
        "      groupedRes[row[strA]] += row[strB]\r\n",
        "      groupedCnt[row[strA]] += 1\r\n",
        "    else:\r\n",
        "      groupedRes[row[strA]] = row[strB]\r\n",
        "      groupedCnt[row[strA]] = 1\r\n",
        "    #print(row['c1'], row['c2'])\r\n",
        "\r\n",
        "  #print(myList)\r\n",
        "  #print(groupedRes)\r\n",
        "  #print(groupedCnt)\r\n",
        "\r\n",
        "\r\n",
        "  avg = {}\r\n",
        "  for it in groupedRes:\r\n",
        "    avg[it] = (groupedRes[it] / groupedCnt[it])\r\n",
        "\r\n",
        "  return avg\r\n",
        "\r\n",
        "\r\n",
        "print('Execution time: ', end='')\r\n",
        "print(myGroupByAvg('race/ethnicity', 'reading score'))\r\n"
      ],
      "execution_count": 166,
      "outputs": [
        {
          "output_type": "stream",
          "text": [
            "Execution time: 0.1038069999999891\n",
            "{'group B': 67.35263157894737, 'group C': 69.10344827586206, 'group A': 64.67415730337079, 'group D': 70.03053435114504, 'group E': 73.02857142857142}\n"
          ],
          "name": "stdout"
        }
      ]
    },
    {
      "cell_type": "code",
      "metadata": {
        "id": "Dsz-ntD4xY8u",
        "outputId": "75980760-0d2e-45df-e4bb-e8145da2ea2c",
        "colab": {
          "base_uri": "https://localhost:8080/"
        }
      },
      "source": [
        "@time_of_function\r\n",
        "def myGroupByMin(strA, strB):\r\n",
        "  min = {}\r\n",
        "\r\n",
        "  for index, row in df.iterrows():\r\n",
        "    if row[strA] in min:\r\n",
        "      if min[row[strA]] > row[strB]:\r\n",
        "        min[row[strA]] = row[strB]\r\n",
        "    else:\r\n",
        "      min[row[strA]] = row[strB]\r\n",
        "    #print(row['c1'], row['c2'])\r\n",
        "\r\n",
        "  #print(min)\r\n",
        "  return min\r\n",
        "\r\n",
        "print('Execution time: ', end='')\r\n",
        "print(myGroupByMin('education', 'writing score'))"
      ],
      "execution_count": 168,
      "outputs": [
        {
          "output_type": "stream",
          "text": [
            "Execution time: 0.09041900000001135\n",
            "{\"bachelor's degree\": 38, 'some college': 19, \"master's degree\": 46, \"associate's degree\": 35, 'high school': 15, 'some high school': 10}\n"
          ],
          "name": "stdout"
        }
      ]
    },
    {
      "cell_type": "markdown",
      "metadata": {
        "id": "1nU6Byr2ZvLv"
      },
      "source": [
        "**Задание 13. Выведите на экран средние баллы студентов по каждому предмету в зависимости от пола и уровня образования. То есть должно получиться количество групп, равных 2 * (число уровней образования), и для каждой такой группы выыведите средний балл по каждому из предметов.**\n",
        "\n",
        "Это можно сделать с помощью сводных таблиц (pivot_table):\n",
        "\n",
        "https://www.kaggle.com/kamilpolak/tutorial-how-to-use-pivot-table-in-pandas"
      ]
    },
    {
      "cell_type": "code",
      "metadata": {
        "id": "khY0vyg5ZvLv"
      },
      "source": [
        "# your code here\r\n",
        "grouped = pd.pivot_table(data=df,index=['gender', 'education'])\r\n",
        "#print(grouped)\r\n",
        "\r\n",
        "\r\n",
        "grouped['avg score'] = (grouped['math score'] + \r\n",
        "                       grouped['reading score'] + \r\n",
        "                       grouped['writing score']) / 3 \r\n",
        "\r\n",
        "print(grouped)\r\n",
        "\r\n",
        "\r\n",
        "\r\n"
      ],
      "execution_count": null,
      "outputs": []
    },
    {
      "cell_type": "markdown",
      "metadata": {
        "_uuid": "3e832cb427c4314582d1953a41b8c78db75e30e3",
        "id": "INo28En0ZvLw"
      },
      "source": [
        "#### Задание 14. Сколько студентов успешно сдали экзамен по математике?\n",
        "\n",
        "Создайте новый столбец в таблице df под названием Math_PassStatus и запишите в него F, если студент не сдал экзамен по математике (балл за экзамен < passmark), и P иначе.\n",
        "\n",
        "Посчитайте количество студентов, сдавших и не сдавших экзамен по математике.\n",
        "\n",
        "Сделайте аналогичные шаги для экзаменов по чтению и письму."
      ]
    },
    {
      "cell_type": "code",
      "metadata": {
        "_uuid": "f43cddb72cc96b30df84bc0de83a4d9170904340",
        "id": "69CUkXZ1ZvLw"
      },
      "source": [
        "# your code here\r\n",
        "counterFuncMath = df.apply(\r\n",
        "    lambda x: 'P' if x['math score'] >= 50 else 'F' , axis=1)\r\n",
        "counterFuncReading = df.apply(\r\n",
        "    lambda x: 'P' if x['reading score'] >= 50 else 'F' , axis=1)\r\n",
        "counterFuncWriting = df.apply(\r\n",
        "    lambda x: 'P' if x['writing score'] >= 50 else 'F' , axis=1)\r\n",
        "\r\n",
        "df['Math_PassStatus'] = counterFuncMath\r\n",
        "df['Reading_PassStatus'] = counterFuncReading\r\n",
        "df['Writing_PassStatus'] = counterFuncWriting\r\n",
        "\r\n",
        "df.head(5)"
      ],
      "execution_count": null,
      "outputs": []
    },
    {
      "cell_type": "code",
      "metadata": {
        "id": "RlzdVNSq31Ev"
      },
      "source": [
        "counterFuncMath = df.apply(\r\n",
        "    lambda x: True if x['Math_PassStatus'] == 'P' else False , axis=1)\r\n",
        "counterFuncReading = df.apply(\r\n",
        "    lambda x: True if x['Reading_PassStatus'] == 'P' else False , axis=1)\r\n",
        "counterFuncWriting = df.apply(\r\n",
        "    lambda x: True if x['Writing_PassStatus'] == 'P' else False , axis=1)\r\n",
        "\r\n",
        "numOfRowsMath = len(counterFuncMath[counterFuncMath == True].index)\r\n",
        "numOfRowsReading = len(counterFuncReading[counterFuncReading == True].index)\r\n",
        "numOfRowsWriting = len(counterFuncWriting[counterFuncWriting == True].index)\r\n",
        "\r\n",
        "\r\n",
        "print('Сдало математику: ', numOfRowsMath,    'студентов. Не сдало:', len(df.index) - numOfRowsMath)\r\n",
        "print('Сдало чтение:     ', numOfRowsReading, 'студентов. Не сдало:', len(df.index) - numOfRowsReading)\r\n",
        "print('Сдало письмо:     ', numOfRowsWriting, 'студентов. Не сдало:', len(df.index) - numOfRowsWriting)"
      ],
      "execution_count": null,
      "outputs": []
    },
    {
      "cell_type": "markdown",
      "metadata": {
        "_uuid": "b753c90914ee65501e2ed263ea614d88a381c472",
        "id": "xa6znUCUZvLw"
      },
      "source": [
        "#### Задание 15. Сколько студентов успешно сдали все экзамены?\n",
        "\n",
        "Создайте столбец OverAll_PassStatus и запишите в него для каждого студента 'F', если студент не сдал хотя бы один из трех экзаменов, а иначе 'P'.\n",
        "\n",
        "Посчитайте количество студентов, которые сдали все экзамены."
      ]
    },
    {
      "cell_type": "code",
      "metadata": {
        "_uuid": "e98f895a022b967cab801447b616222439fe9d84",
        "id": "StC1G4J3ZvLx"
      },
      "source": [
        "# your code here\r\n",
        "counterFunc = df.apply(\r\n",
        "    lambda x: 'P' if (x['Math_PassStatus'] == 'P' and\r\n",
        "                      x['Reading_PassStatus'] == 'P' and\r\n",
        "                      x['Writing_PassStatus'] == 'P'    ) else 'F' , axis=1)\r\n",
        "\r\n",
        "df['OverAll_PassStatus'] = counterFunc\r\n",
        "\r\n",
        "df.head(3)"
      ],
      "execution_count": null,
      "outputs": []
    },
    {
      "cell_type": "code",
      "metadata": {
        "id": "9olBzRQCepMw"
      },
      "source": [
        "counterFuncMath = df.apply(\r\n",
        "    lambda x: True if x['OverAll_PassStatus'] == 'P' else False , axis=1)\r\n",
        "\r\n",
        "\r\n",
        "numOfRowsWriting = len(counterFuncWriting[counterFuncWriting == True].index)\r\n",
        "\r\n",
        "print('Все предметы сдало: ', numOfRowsWriting, 'студентов. Не сдало:', len(df.index) - numOfRowsWriting)"
      ],
      "execution_count": null,
      "outputs": []
    },
    {
      "cell_type": "markdown",
      "metadata": {
        "_uuid": "3af9c6cb4cbfff66d4ae09509f10b8b6ce33075d",
        "id": "ADd1tAOuZvLx"
      },
      "source": [
        "#### Задание 16. Переведем баллы в оценки\n",
        "\n",
        "### Система перевода баллов в оценки\n",
        "####    больше 90 = A\n",
        "####      80-90 = B\n",
        "####      70-80 = C\n",
        "####      60-70 = D\n",
        "####      50-60 = E\n",
        "####    меньше 50 = F (Fail)\n",
        "\n",
        "Создайте вспомогательную функцию, которая будет по среднему баллу за три экзамена выставлять оценку студенту по данным выше критериям.\n",
        "\n",
        "Создайте столбец Grade и запишите в него оценку каждого студента.\n",
        "\n",
        "Выведите количество студентов, получивших каждую из оценок."
      ]
    },
    {
      "cell_type": "code",
      "metadata": {
        "_uuid": "04707c5be4237020b906d2ac705a0db3d620506f",
        "id": "EF5pTnAaZvLy"
      },
      "source": [
        "def GetGrade(average_mark):\n",
        "    # your code here\n",
        "    if average_mark >= 90:\n",
        "      return 'A'\n",
        "    elif average_mark >= 80:\n",
        "      return 'B'\n",
        "    elif average_mark >= 70:\n",
        "      return 'C'\n",
        "    elif average_mark >= 60:\n",
        "      return 'D'\n",
        "    elif average_mark >= 50:\n",
        "      return 'E'\n",
        "    else:\n",
        "      return 'F'\n",
        "\n",
        "\n",
        "# your code here\n",
        "\n",
        "counterFunc = df.apply(\n",
        "    lambda x: GetGrade((x['math score']    +\n",
        "                        x['reading score'] +\n",
        "                        x['writing score']  ) / 3) if True else 0, axis=1)\n",
        "\n",
        "\n",
        "df['Grade'] = counterFunc\n",
        "\n",
        "df.head(3)"
      ],
      "execution_count": null,
      "outputs": []
    }
  ]
}